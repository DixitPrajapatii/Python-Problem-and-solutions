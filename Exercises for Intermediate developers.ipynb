{
 "cells": [
  {
   "cell_type": "markdown",
   "metadata": {},
   "source": [
    "### Exercises for Intermediate developers"
   ]
  },
  {
   "cell_type": "markdown",
   "metadata": {},
   "source": [
    "Exercise 1: Reverse each word of a string\n",
    "Given:\n",
    "\n",
    "str = 'My Name is Jessa'\n",
    "Expected Output\n",
    "\n",
    "yM emaN si asseJ"
   ]
  },
  {
   "cell_type": "code",
   "execution_count": 19,
   "metadata": {},
   "outputs": [
    {
     "name": "stdout",
     "output_type": "stream",
     "text": [
      "yM emaN si asseJ\n"
     ]
    }
   ],
   "source": [
    "str1 = 'My Name is Jessa'\n",
    "def reverse_words(Sentence):\n",
    "    # Split string on whitespace\n",
    "    words = Sentence.split(\" \")\n",
    "\n",
    "    # iterate list and reverse each word using ::-1\n",
    "    new_word_list = [word[::-1] for word in words]\n",
    "    \n",
    "    # Joining the new list of words\n",
    "    res_str = \" \".join(new_word_list)\n",
    "    return res_str\n",
    "\n",
    "# Given String\n",
    "str1 = \"My Name is Jessa\"\n",
    "print(reverse_words(str1))\n",
    "\n",
    "\n",
    "\n",
    "\n",
    "\n",
    "#======================\n",
    "# lst = str1.split(' ')\n",
    "# new_str = ''\n",
    "\n",
    "# for l in lst:\n",
    "#     new_word = l[::-1]\n",
    "#     new_str = new_str +  new_word + ' ' \n",
    "# new_str\n"
   ]
  },
  {
   "cell_type": "markdown",
   "metadata": {},
   "source": [
    "Exercise 2: Read text file into a variable and replace all newlines with space\n",
    "Given: Assume you have a following text file (sample.txt).\n",
    "\n",
    "Line1\n",
    "line2\n",
    "line3\n",
    "line4\n",
    "line5\n",
    "Expected Output:\n",
    "\n",
    "Line1 line2 line3 line4 line5"
   ]
  },
  {
   "cell_type": "code",
   "execution_count": 39,
   "metadata": {},
   "outputs": [
    {
     "name": "stdout",
     "output_type": "stream",
     "text": [
      "line 1 line 2 line 3 line 4 line 5 \n"
     ]
    }
   ],
   "source": [
    "with open('test.txt', 'r') as file:\n",
    "    data = file.read().replace('\\n', ' ')\n",
    "    print(data)"
   ]
  },
  {
   "cell_type": "markdown",
   "metadata": {},
   "source": [
    "Exercise 3: Remove items from a list while iterating\n",
    "Description:\n",
    "\n",
    "In this question, You need to remove items from a list while iterating but without creating a different copy of a list.\n",
    "\n",
    "Remove numbers greater than 50\n",
    "\n",
    "Given:\n",
    "\n",
    "number_list = [10, 20, 30, 40, 50, 60, 70, 80, 90, 100]\n",
    "Expected Output: -\n",
    "\n",
    "[10, 20, 30, 40, 50]"
   ]
  },
  {
   "cell_type": "code",
   "execution_count": 2,
   "metadata": {},
   "outputs": [
    {
     "name": "stdout",
     "output_type": "stream",
     "text": [
      "[10, 20, 30, 40, 50]\n"
     ]
    }
   ],
   "source": [
    "number_list = [10, 20, 30, 40, 50, 60, 70, 80, 90, 100]\n",
    "i = 0\n",
    "# get list's size\n",
    "n = len(number_list)\n",
    "# iterate list till i is smaller than n\n",
    "while i < n:\n",
    "    # check if number is greater than 50\n",
    "    if number_list[i] > 50:\n",
    "        # delete current index from list\n",
    "        del number_list[i]\n",
    "        # reduce the list size\n",
    "        n = n - 1\n",
    "    else:\n",
    "        # move to next item\n",
    "        i = i + 1\n",
    "print(number_list)\n",
    "\n",
    "# Solution 2: Using for loop and range()\n",
    "\n",
    "# number_list = [10, 20, 30, 40, 50, 60, 70, 80, 90, 100]\n",
    "# for i in range(len(number_list) - 1, -1, -1):\n",
    "#     if number_list[i] > 50:\n",
    "#         del number_list[i]\n",
    "# print(number_list)\n",
    "\n",
    "\n",
    "# number_list = [10, 20, 30, 40, 50, 60, 70, 80, 90, 100]\n",
    "\n",
    "# for val in number_list:\n",
    "#     if val > 50:\n",
    "#         number_list.remove(val)\n",
    "#     else:\n",
    "#         continue\n",
    "# number_list"
   ]
  },
  {
   "cell_type": "code",
   "execution_count": null,
   "metadata": {},
   "outputs": [],
   "source": []
  }
 ],
 "metadata": {
  "language_info": {
   "name": "python"
  }
 },
 "nbformat": 4,
 "nbformat_minor": 2
}
