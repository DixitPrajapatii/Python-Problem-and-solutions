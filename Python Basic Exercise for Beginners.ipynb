{
 "cells": [
  {
   "cell_type": "markdown",
   "metadata": {},
   "source": [
    "Exercise 1: Calculate the multiplication and sum of two numbers"
   ]
  },
  {
   "cell_type": "markdown",
   "metadata": {},
   "source": [
    "Given two integer numbers, return their product only if the product is equal to or lower than 1000. Otherwise, return their sum.\n"
   ]
  },
  {
   "cell_type": "markdown",
   "metadata": {},
   "source": [
    "Given 1:\n",
    "number1 = 20\n",
    "number2 = 30\n",
    "Expected Output:\n",
    "The result is 600\n",
    "\n",
    "Given 2:\n",
    "number1 = 40\n",
    "number2 = 30\n",
    "Expected Output:\n",
    "The result is 70"
   ]
  },
  {
   "cell_type": "code",
   "execution_count": null,
   "metadata": {},
   "outputs": [],
   "source": [
    "def multisum(num1, num2):\n",
    "    multi = num1 * num2\n",
    "    summ = num1 + num2 \n",
    "    if multi <=1000:\n",
    "        print(multi)\n",
    "    else:\n",
    "        print(summ)\n",
    "\n",
    "multisum(20,30)"
   ]
  },
  {
   "cell_type": "markdown",
   "metadata": {},
   "source": [
    "Exercise 2: Print the sum of the current number and the previous number\n",
    "Write a program to iterate the first 10 numbers, and in each iteration, print the sum of the current and previous number.\n",
    "\n",
    "Expected Output:\n",
    "\n",
    "Printing current and previous number sum in a range(10)\n",
    "Current Number 0 Previous Number  0  Sum:  0\n",
    "Current Number 1 Previous Number  0  Sum:  1\n",
    "Current Number 2 Previous Number  1  Sum:  3\n",
    "Current Number 3 Previous Number  2  Sum:  5\n",
    "Current Number 4 Previous Number  3  Sum:  7\n",
    "Current Number 5 Previous Number  4  Sum:  9\n",
    "Current Number 6 Previous Number  5  Sum:  11\n",
    "Current Number 7 Previous Number  6  Sum:  13\n",
    "Current Number 8 Previous Number  7  Sum:  15\n",
    "Current Number 9 Previous Number  8  Sum:  17\n"
   ]
  },
  {
   "cell_type": "code",
   "execution_count": null,
   "metadata": {},
   "outputs": [],
   "source": [
    "def sum_current_previous_number(value_range):\n",
    "    print(f'Printing current and previous number sum in a range({value_range})')\n",
    "    for num in range(value_range):\n",
    "        current_number = num\n",
    "        if current_number !=0:\n",
    "            previous_number = current_number -1\n",
    "        else:\n",
    "            previous_number = 0\n",
    "        summ = current_number + previous_number\n",
    "        print(f'Current Number {current_number} Previous Number {previous_number} Sum: {summ}')\n"
   ]
  },
  {
   "cell_type": "code",
   "execution_count": null,
   "metadata": {},
   "outputs": [],
   "source": [
    "sum_current_previous_number(10)"
   ]
  },
  {
   "cell_type": "markdown",
   "metadata": {},
   "source": [
    "Exercise 3: Print characters from a string that are present at an even index number\n",
    "Write a program to accept a string from the user and display characters that are present at an even index number.\n",
    "\n",
    "For example, str = \"pynative\" so you should display ‘p’, ‘n’, ‘t’, ‘v’.\n",
    "\n",
    "Expected Output:\n",
    "\n",
    "Orginal String is  pynative\n",
    "Printing only even index chars\n",
    "p\n",
    "n\n",
    "t\n",
    "v"
   ]
  },
  {
   "cell_type": "code",
   "execution_count": null,
   "metadata": {},
   "outputs": [],
   "source": [
    "def Even_index_number(enter_string):\n",
    "    output =enter_string[0::2]\n",
    "    for val in output:\n",
    "        print(f\"'{val}'\", end=',')\n",
    "Even_index_number('pynative')\n"
   ]
  },
  {
   "cell_type": "markdown",
   "metadata": {},
   "source": [
    "Exercise 4: Remove first n characters from a string\n",
    "Write a program to remove characters from a string starting from zero up to n and return a new string.\n",
    "\n",
    "For example:\n",
    "\n",
    "remove_chars(\"pynative\", 4) so output must be tive. Here, we need to remove the first four characters from a string.\n",
    "remove_chars(\"pynative\", 2) so output must be native. Here, we need to remove the first two characters from a string.\n",
    "Note: n must be less than the length of the string."
   ]
  },
  {
   "cell_type": "code",
   "execution_count": null,
   "metadata": {},
   "outputs": [],
   "source": [
    "def remove_n_character(str_value, count_val):\n",
    "    if count_val <= len(str_value):\n",
    "        new_string = str_value[count_val::]\n",
    "        print(new_string)\n",
    "    else:\n",
    "        'Index is out of range'\n",
    "\n",
    "remove_n_character('pynative',4)\n"
   ]
  },
  {
   "cell_type": "markdown",
   "metadata": {},
   "source": [
    "Exercise 5: Check if the first and last number of a list is the same\n",
    "\n",
    "Write a function to return True if the first and last number of a given list is same. If numbers are different then return False.\n",
    "\n",
    "Given:\n",
    "\n",
    "numbers_x = [10, 20, 30, 40, 10]\n",
    "numbers_y = [75, 65, 35, 75, 30]\n",
    "Expected Output:\n",
    "\n",
    "Given list: [10, 20, 30, 40, 10]\n",
    "result is True\n",
    "\n",
    "numbers_y = [75, 65, 35, 75, 30]\n",
    "result is False"
   ]
  },
  {
   "cell_type": "code",
   "execution_count": null,
   "metadata": {},
   "outputs": [],
   "source": [
    "def check_first_last_number_list(value):\n",
    "    if value[0] == value[-1]:\n",
    "        return True\n",
    "    else:\n",
    "        False\n",
    "\n",
    "check_first_last_number_list([10,20,30,40,10])\n",
    "    "
   ]
  },
  {
   "cell_type": "markdown",
   "metadata": {},
   "source": [
    "Exercise 6: Display numbers divisible by 5 from a list\n",
    "Iterate the given list of numbers and print only those numbers which are divisible by 5\n",
    "\n",
    "Expected Output:\n",
    "\n",
    "Given list is  [10, 20, 33, 46, 55]\n",
    "Divisible by 5\n",
    "10\n",
    "20\n",
    "55"
   ]
  },
  {
   "cell_type": "code",
   "execution_count": null,
   "metadata": {},
   "outputs": [],
   "source": [
    "def devisible_by5(data):\n",
    "    for value in data:\n",
    "        if value % 5 ==0:\n",
    "            print(value, end=' ')\n",
    "        else:\n",
    "            pass\n",
    "    else:\n",
    "        pass\n",
    "\n",
    "devisible_by5([10,20,33,46,55])"
   ]
  },
  {
   "cell_type": "markdown",
   "metadata": {},
   "source": [
    "Exercise 7: Return the count of a given substring from a string\n",
    "Write a program to find how many times substring “Emma” appears in the given string.\n",
    "\n",
    "Given:\n",
    "\n",
    "str_x = \"Emma is good developer. Emma is a writer\"\n",
    "Expected Output:\n",
    "\n",
    "Emma appeared 2 times"
   ]
  },
  {
   "cell_type": "code",
   "execution_count": null,
   "metadata": {},
   "outputs": [],
   "source": [
    "def count_of_substring_repeater(data,substring_val):\n",
    "    cnt = data.count(substring_val)\n",
    "    return cnt\n",
    "\n",
    "str_x = \"Emma is good developer. Emma is a writer\"\n",
    "count_of_substring_repeater(str_x, 'Emma')\n",
    "\n",
    "# def count_of_substring_repeater(data,substring_val):\n",
    "#     data = data.split(' ')\n",
    "#     count = 0\n",
    "#     for value in data:\n",
    "#         if value == substring_val:\n",
    "#             count+=1\n",
    "#     return count\n",
    "# str_x = \"Emma is good developer. Emma is a writer\"\n",
    "\n",
    "# count_of_substring_repeater(str_x, 'Emma')\n",
    "\n"
   ]
  },
  {
   "cell_type": "markdown",
   "metadata": {},
   "source": [
    "Exercise 8: Print the following pattern\n",
    "1 \n",
    "2 2 \n",
    "3 3 3 \n",
    "4 4 4 4 \n",
    "5 5 5 5 5"
   ]
  },
  {
   "cell_type": "code",
   "execution_count": null,
   "metadata": {},
   "outputs": [],
   "source": [
    "def pattern_number_triangle(length):\n",
    "    for len1 in range(0,length):\n",
    "        for len2 in range(len1):\n",
    "            print(len1, end='')\n",
    "        print('\\n', end='')\n",
    "\n",
    "\n",
    "pattern_number_triangle(6)"
   ]
  },
  {
   "cell_type": "markdown",
   "metadata": {},
   "source": [
    "Exercise 9: Check Palindrome Number\n",
    "Write a program to check if the given number is a palindrome number.\n",
    "\n",
    "A palindrome number is a number that is the same after reverse. For example, 545, is the palindrome numbers\n",
    "\n",
    "Expected Output:\n",
    "\n",
    "original number 121\n",
    "Yes. given number is palindrome number\n",
    "\n",
    "original number 125\n",
    "No. given number is not palindrome number"
   ]
  },
  {
   "cell_type": "code",
   "execution_count": null,
   "metadata": {},
   "outputs": [],
   "source": [
    "def Palindrome_number_check(datavalue):\n",
    "    number = str(datavalue)\n",
    "    check = int( number[-1] + number[1:-1] + number[0])\n",
    "\n",
    "    if check == datavalue:\n",
    "        print(f'Original number {datavalue} Yes. Given number is palindrome number')\n",
    "    else:\n",
    "        print(f'Original number {datavalue} No. Given number is not palindrome number')\n",
    "    \n",
    "Palindrome_number_check(123)"
   ]
  },
  {
   "cell_type": "markdown",
   "metadata": {},
   "source": [
    "Exercise 10: Create a new list from two list using the following condition\n",
    "Create a new list from two list using the following condition\n",
    "\n",
    "Given two list of numbers, write a program to create a new list such that the new list should contain odd numbers from the first list and even numbers from the second list.\n",
    "\n",
    "Given:\n",
    "\n",
    "list1 = [10, 20, 25, 30, 35]\n",
    "list2 = [40, 45, 60, 75, 90]\n",
    "Expected Output:\n",
    "\n",
    "result list: [25, 35, 40, 60, 90]\n"
   ]
  },
  {
   "cell_type": "code",
   "execution_count": null,
   "metadata": {},
   "outputs": [],
   "source": [
    "def separate_odd_even_list(list1,list2):\n",
    "    new_list = []\n",
    "    for value in list1:\n",
    "        if value %2 !=0:\n",
    "            new_list.append(value)\n",
    "    for value1 in list2:\n",
    "        if value1 %2 ==0:\n",
    "            new_list.append(value1)\n",
    "    return new_list\n",
    "    \n",
    "list1 = [10, 20, 25, 30, 35]\n",
    "list2 = [40, 45, 60, 75, 90]\n",
    "\n",
    "separate_odd_even_list(list1,list2)\n",
    "\n"
   ]
  },
  {
   "cell_type": "markdown",
   "metadata": {},
   "source": [
    "Exercise 11: Write a Program to extract each digit from an integer in the reverse order.\n",
    "For example, If the given int is 7536, the output shall be “6 3 5 7“, with a space separating the digits."
   ]
  },
  {
   "cell_type": "code",
   "execution_count": null,
   "metadata": {},
   "outputs": [],
   "source": [
    "def extract_each_element(value):\n",
    "    while value > 0:\n",
    "      digit = value % 10\n",
    "      value = value //10\n",
    "      print(digit, end=' ')\n",
    "\n",
    "extract_each_element(7536)  "
   ]
  },
  {
   "cell_type": "markdown",
   "metadata": {},
   "source": [
    "Exercise 12: Calculate income tax for the given income by adhering to the rules below\n",
    "\n",
    "Taxable Income\tRate (in %)\n",
    "First $10,000\t0\n",
    "Next $10,000\t10\n",
    "The remaining\t20\n",
    "Expected Output:\n",
    "\n",
    "For example, suppose the taxable income is 45000, and the income tax payable is\n",
    "\n",
    "10000*0% + 10000*10%  + 25000*20% = $6000."
   ]
  },
  {
   "cell_type": "code",
   "execution_count": null,
   "metadata": {},
   "outputs": [],
   "source": [
    "income = 45000\n",
    "tax_payable = 0\n",
    "print(\"Given income\", income)\n",
    "\n",
    "if income <= 10000:\n",
    "    tax_payable = 0\n",
    "elif income <= 20000:\n",
    "    x = income - 10000\n",
    "    tax_payable = x * 10 / 100\n",
    "else:\n",
    "    tax_payable = 0\n",
    "    tax_payable = 10000 * 10 / 100\n",
    "    tax_payable += (income - 20000) * 20 / 100\n",
    "\n",
    "print(\"Total tax to pay is\", tax_payable)\n",
    "\n",
    "final_tax = tax_value + ((remaining_amount *20)/100)\n",
    "print(final_tax)"
   ]
  },
  {
   "cell_type": "markdown",
   "metadata": {},
   "source": [
    "Exercise 13: Print multiplication table from 1 to 10\n",
    "Expected Output:\n",
    "\n",
    "1  2 3 4 5 6 7 8 9 10 \t\t\n",
    "2  4 6 8 10 12 14 16 18 20 \t\t\n",
    "3  6 9 12 15 18 21 24 27 30 \t\t\n",
    "4  8 12 16 20 24 28 32 36 40 \t\t\n",
    "5  10 15 20 25 30 35 40 45 50 \t\t\n",
    "6  12 18 24 30 36 42 48 54 60 \t\t\n",
    "7  14 21 28 35 42 49 56 63 70 \t\t\n",
    "8  16 24 32 40 48 56 64 72 80 \t\t\n",
    "9  18 27 36 45 54 63 72 81 90 \t\t\n",
    "10 20 30 40 50 60 70 80 90 100 "
   ]
  },
  {
   "cell_type": "code",
   "execution_count": null,
   "metadata": {},
   "outputs": [],
   "source": [
    "def multiplication_table(value):\n",
    "    for val1 in range(1,11):\n",
    "        for val2 in range(1,value+1):\n",
    "            print(val1 * val2 , end=' ')\n",
    "        print('\\n', end='')\n",
    "\n",
    "multiplication_table(10)"
   ]
  },
  {
   "cell_type": "markdown",
   "metadata": {},
   "source": [
    "Exercise 14: Print a downward Half-Pyramid Pattern of Star (asterisk)\n",
    "* * * * *  \n",
    "* * * *  \n",
    "* * *  \n",
    "* *  \n",
    "*"
   ]
  },
  {
   "cell_type": "code",
   "execution_count": null,
   "metadata": {},
   "outputs": [],
   "source": [
    "def Half_pyramid_pattern(repitition):\n",
    "    for j in range(repitition + 1):\n",
    "        for i in range(repitition):\n",
    "            print('*', end=' ')\n",
    "        print('*')\n",
    "        repitition-=1\n",
    "\n",
    "Half_pyramid_pattern(4)"
   ]
  },
  {
   "cell_type": "markdown",
   "metadata": {},
   "source": [
    "Exercise 15: Write a function called exponent(base, exp) that returns an int value of base raises to the power of exp.\n",
    "Note here exp is a non-negative integer, and the base is an integer.\n",
    "\n",
    "Expected output\n",
    "\n",
    "Case 1:\n",
    "\n",
    "base = 2\n",
    "exponent = 5\n",
    "\n",
    "2 raises to the power of 5: 32 i.e. (2 *2 * 2 *2 *2 = 32)\n",
    "Case 2:\n",
    "\n",
    "base = 5\n",
    "exponent = 4\n",
    "\n",
    "5 raises to the power of 4 is: 625 \n",
    "i.e. (5 *5 * 5 *5 = 625)"
   ]
  },
  {
   "cell_type": "code",
   "execution_count": null,
   "metadata": {},
   "outputs": [],
   "source": [
    "def exponent(base, exp):\n",
    "    value = base ** exp\n",
    "    return value\n",
    "\n",
    "exponent(5,4)"
   ]
  },
  {
   "cell_type": "markdown",
   "metadata": {},
   "source": [
    "*****\n",
    "*   *\n",
    "*   *\n",
    "*   *\n",
    "*****"
   ]
  },
  {
   "cell_type": "code",
   "execution_count": 72,
   "metadata": {},
   "outputs": [
    {
     "name": "stdout",
     "output_type": "stream",
     "text": [
      "* * * * * \n",
      "*\n",
      "*\n",
      "*\n",
      "*\n",
      "* * * * * "
     ]
    }
   ],
   "source": [
    "\n",
    "for i in range(5):\n",
    "    print('*' , end=' ')\n",
    "print('\\n', end='')\n",
    "for i in range(4):\n",
    "    print('*')\n",
    "for i in range(5):\n",
    "    print('*' , end=' ')\n",
    "    "
   ]
  },
  {
   "cell_type": "code",
   "execution_count": null,
   "metadata": {},
   "outputs": [],
   "source": []
  }
 ],
 "metadata": {
  "kernelspec": {
   "display_name": "Python 3",
   "language": "python",
   "name": "python3"
  },
  "language_info": {
   "codemirror_mode": {
    "name": "ipython",
    "version": 3
   },
   "file_extension": ".py",
   "mimetype": "text/x-python",
   "name": "python",
   "nbconvert_exporter": "python",
   "pygments_lexer": "ipython3",
   "version": "3.12.1"
  }
 },
 "nbformat": 4,
 "nbformat_minor": 2
}
