{
 "cells": [
  {
   "cell_type": "markdown",
   "metadata": {},
   "source": [
    "Python Data Structure Exercise for Beginners"
   ]
  },
  {
   "cell_type": "markdown",
   "metadata": {},
   "source": [
    "Exercise 1: Create a list by picking an odd-index items from the first list and even index items from the second\n",
    "Given two lists, l1 and l2, write a program to create a third list l3 by picking an odd-index element from the list l1 and even index elements from the list l2.\n",
    "\n",
    "Given:\n",
    "\n",
    "l1 = [3, 6, 9, 12, 15, 18, 21]\n",
    "l2 = [4, 8, 12, 16, 20, 24, 28]\n",
    "Expected Output:\n",
    "\n",
    "Element at odd-index positions from list one\n",
    "[6, 12, 18]\n",
    "Element at even-index positions from list two\n",
    "[4, 12, 20, 28]\n",
    "\n",
    "Printing Final third list\n",
    "[6, 12, 18, 4, 12, 20, 28]"
   ]
  },
  {
   "cell_type": "code",
   "execution_count": null,
   "metadata": {},
   "outputs": [],
   "source": [
    "l1 = [3, 6, 9, 12, 15, 18, 21]\n",
    "l2 = [4, 8, 12, 16, 20, 24, 28]\n",
    "l3 = l1[1::2] + l2[::2]\n",
    "l3"
   ]
  },
  {
   "cell_type": "markdown",
   "metadata": {},
   "source": [
    "Exercise 2: Remove and add item in a list\n",
    "Write a program to remove the item present at index 4 and add it to the 2nd position and at the end of the list.\n",
    "\n",
    "Given:\n",
    "\n",
    "list1 = [54, 44, 27, 79, 91, 41]\n",
    "Expected Output:\n",
    "\n",
    "List After removing element at index 4  [34, 54, 67, 89, 43, 94]\n",
    "List after Adding element at index 2  [34, 54, 11, 67, 89, 43, 94]\n",
    "List after Adding element at last  [34, 54, 11, 67, 89, 43, 94, 11]"
   ]
  },
  {
   "cell_type": "code",
   "execution_count": null,
   "metadata": {},
   "outputs": [],
   "source": [
    "sample_list = [34, 54, 67, 89, 11, 43, 94]\n",
    "\n",
    "print(\"Original list \", sample_list)\n",
    "element = sample_list.pop(4)\n",
    "print(\"List After removing element at index 4 \", sample_list)\n",
    "\n",
    "sample_list.insert(2, element)\n",
    "print(\"List after Adding element at index 2 \", sample_list)\n",
    "\n",
    "sample_list.append(element)\n",
    "print(\"List after Adding element at last \", sample_list)"
   ]
  },
  {
   "cell_type": "markdown",
   "metadata": {},
   "source": [
    "Exercise 3: Slice list into 3 equal chunks and reverse each chunk\n",
    "Given:\n",
    "\n",
    "sample_list = [11, 45, 8, 23, 14, 12, 78, 45, 89]\n",
    "Expected Outcome:\n",
    "Chunk  1 [11, 45, 8]\n",
    "After reversing it  [8, 45, 11]\n",
    "Chunk  2 [23, 14, 12]\n",
    "After reversing it  [12, 14, 23]\n",
    "Chunk  3 [78, 45, 89]\n",
    "After reversing it  [89, 45, 78]"
   ]
  },
  {
   "cell_type": "code",
   "execution_count": null,
   "metadata": {},
   "outputs": [],
   "source": [
    "sample_list = [11, 45, 8, 23, 14, 12, 78, 45, 89]\n",
    "print(\"Original list \", sample_list)\n",
    "\n",
    "length = len(sample_list)\n",
    "chunk_size = int(length / 3)\n",
    "start = 0\n",
    "end = chunk_size\n",
    "\n",
    "# run loop 3 times\n",
    "for i in range(3):\n",
    "    # get indexes\n",
    "    indexes = slice(start, end)\n",
    "    \n",
    "    # get chunk\n",
    "    list_chunk = sample_list[indexes]\n",
    "    print(\"Chunk \", i, list_chunk)\n",
    "    \n",
    "    # reverse chunk\n",
    "    print(\"After reversing it \", list(reversed(list_chunk)))\n",
    "\n",
    "    start = end\n",
    "    end += chunk_size\n",
    "\n",
    "\n",
    "#simple way using slicing\n",
    "\n",
    "# sample_list = [11, 45, 8, 23, 14, 12, 78, 45, 89]\n",
    "\n",
    "# length = len(sample_list)\n",
    "# equal_part = length//3\n",
    "# equal_part\n",
    "# chunk1 = sample_list[0:equal_part]\n",
    "# chunk2 = sample_list[equal_part:equal_part+equal_part]\n",
    "# chunk3 = sample_list[equal_part+equal_part::]\n",
    "# print('Chunk 1',chunk1)\n",
    "# print('After reversin it',chunk1[::-1])\n",
    "# print('Chunk 2',chunk2)\n",
    "# print('After reversin it',chunk2[::-1])\n",
    "# print('Chunk 3',chunk3)\n",
    "# print('After reversin it',chunk3[::-1])"
   ]
  },
  {
   "cell_type": "markdown",
   "metadata": {},
   "source": [
    "Exercise 4: Count the occurrence of each element from a list\n",
    "Write a program to iterate a given list and count the occurrence of each element and create a dictionary to show the count of each element.\n",
    "\n",
    "Given:\n",
    "\n",
    "sample_list = [11, 45, 8, 11, 23, 45, 23, 45, 89]\n",
    "Expected Output:\n",
    "\n",
    "Printing count of each item   {11: 2, 45: 3, 8: 1, 23: 2, 89: 1}"
   ]
  },
  {
   "cell_type": "code",
   "execution_count": null,
   "metadata": {},
   "outputs": [],
   "source": [
    "sample_list = [11, 45, 8, 11, 23, 45, 23, 45, 89]\n",
    "\n",
    "def repetition_count_inlist(listval):\n",
    "    numberwith_count = {}\n",
    "\n",
    "    for val in listval:\n",
    "        if val not in numberwith_count.keys():\n",
    "            numberwith_count[val]=1\n",
    "        else:\n",
    "            numberwith_count[val]+=1\n",
    "    return numberwith_count\n",
    "\n",
    "repetition_count_inlist(sample_list)"
   ]
  },
  {
   "cell_type": "markdown",
   "metadata": {},
   "source": [
    "Exercise 5: Create a Python set such that it shows the element from both lists in a pair\n",
    "Given:\n",
    "\n",
    "first_list = [2, 3, 4, 5, 6, 7, 8]\n",
    "second_list = [4, 9, 16, 25, 36, 49, 64]\n",
    "Expected Output:\n",
    "\n",
    "Result is  {(6, 36), (8, 64), (4, 16), (5, 25), (3, 9), (7, 49), (2, 4)}"
   ]
  },
  {
   "cell_type": "code",
   "execution_count": null,
   "metadata": {},
   "outputs": [],
   "source": [
    "\n",
    "# using zip function\n",
    "\n",
    "first_list = [2, 3, 4, 5, 6, 7, 8]\n",
    "print(\"First List \", first_list)\n",
    "\n",
    "second_list = [4, 9, 16, 25, 36, 49, 64]\n",
    "print(\"Second List \", second_list)\n",
    "\n",
    "result = zip(first_list, second_list)\n",
    "result_set = set(result)\n",
    "print(result_set)\n",
    "\n",
    "\n",
    "\n",
    "# using for and while loop\n",
    "# first_list = [2, 3, 4, 5, 6, 7, 8]\n",
    "# second_list = [4, 9, 16, 25, 36, 49, 64]\n",
    "\n",
    "# index = 0\n",
    "# main_list = []\n",
    "# for index in range(len(first_list)):\n",
    "#     while index < len(first_list):\n",
    "#         list1 = []\n",
    "#         for val in first_list[index], second_list[index]:\n",
    "#             list1.append(val)\n",
    "#             index+=1\n",
    "#         conversion = tuple(list1)\n",
    "#         main_list.append(conversion)\n",
    "#         break\n",
    "\n",
    "# result = set(main_list)\n",
    "\n",
    "# print('Result is ', result)\n"
   ]
  },
  {
   "cell_type": "markdown",
   "metadata": {},
   "source": [
    "Exercise 6: Find the intersection (common) of two sets and remove those elements from the first set\n",
    "See: Python Set\n",
    "\n",
    "Given:\n",
    "\n",
    "first_set = {23, 42, 65, 57, 78, 83, 29}\n",
    "second_set = {57, 83, 29, 67, 73, 43, 48}\n",
    "Expected Output:\n",
    "\n",
    "Intersection is  {57, 83, 29}\n",
    "First Set after removing common element  {65, 42, 78, 23}"
   ]
  },
  {
   "cell_type": "code",
   "execution_count": null,
   "metadata": {},
   "outputs": [],
   "source": [
    "first_set = {23, 42, 65, 57, 78, 83, 29}\n",
    "second_set = {57, 83, 29, 67, 73, 43, 48}\n",
    "\n",
    "for ele in first_set.intersection(second_set):\n",
    "    first_set.remove(ele)\n",
    "first_set"
   ]
  },
  {
   "cell_type": "markdown",
   "metadata": {},
   "source": [
    "Exercise 7: Checks if one set is a subset or superset of another set. If found, delete all elements from that set\n",
    "Given:\n",
    "\n",
    "first_set = {27, 43, 34}\n",
    "second_set = {34, 93, 22, 27, 43, 53, 48}\n",
    "Expected Output:\n",
    "\n",
    "First set is subset of second set - True\n",
    "Second set is subset of First set -  False\n",
    "\n",
    "First set is Super set of second set -  False\n",
    "Second set is Super set of First set -  True\n",
    "\n",
    "First Set  set()\n",
    "Second Set  {67, 73, 43, 48, 83, 57, 29}"
   ]
  },
  {
   "cell_type": "code",
   "execution_count": null,
   "metadata": {},
   "outputs": [],
   "source": [
    "first_set = {27, 43, 34}\n",
    "second_set = {34, 93, 22, 27, 43, 53, 48}\n",
    "\n",
    "print('First set is subset of Second set - ', first_set.issubset(second_set))\n",
    "print('Second set is subset of First set - ', second_set.issubset(first_set))\n",
    "\n",
    "print('First set is Super set of Second set - ', first_set.issuperset(second_set))\n",
    "print('Second set is Super set of First set - ', second_set.issuperset(first_set))\n",
    "\n",
    "if first_set.issubset(second_set):\n",
    "    first_set.clear()\n",
    "\n",
    "if second_set.issubset(first_set):\n",
    "    second_set.clear()\n",
    "\n",
    "print(\"First Set \", first_set)\n",
    "print(\"Second Set \", second_set)"
   ]
  },
  {
   "cell_type": "markdown",
   "metadata": {},
   "source": [
    "Exercise 8: Iterate a given list and check if a given element exists as a key’s value in a dictionary. If not, delete it from the list\n",
    "\n",
    "Given:\n",
    "\n",
    "roll_number = [47, 64, 69, 37, 76, 83, 95, 97]\n",
    "sample_dict = {'Jhon':47, 'Emma':69, 'Kelly':76, 'Jason':97}\n",
    "Expected Outcome:\n",
    "\n",
    "After removing unwanted elements from list [47, 69, 76, 97]\n"
   ]
  },
  {
   "cell_type": "code",
   "execution_count": null,
   "metadata": {},
   "outputs": [],
   "source": [
    "roll_number = [47, 64, 69, 37, 76, 83, 95, 97]\n",
    "sample_dict = {'Jhon':47, 'Emma':69, 'Kelly':76, 'Jason':97}\n",
    "\n",
    "roll_number = [item for item in roll_number if item in sample_dict.values()]\n",
    "\n",
    "print('After removing unwanted elements from list ',roll_number)\n",
    "\n",
    "# for val in roll_number:\n",
    "#     if val in sample_dict.values():\n",
    "#         pass\n",
    "#     else:\n",
    "#         roll_number.remove(val)\n",
    "\n",
    "\n",
    "roll_number"
   ]
  },
  {
   "cell_type": "markdown",
   "metadata": {},
   "source": [
    "Exercise 9: Get all values from the dictionary and add them to a list but don’t add duplicates\n",
    "Given:\n",
    "\n",
    "speed = {'jan': 47, 'feb': 52, 'march': 47, 'April': 44, 'May': 52, 'June': 53, 'july': 54, 'Aug': 44, 'Sept': 54}\n",
    "\n",
    "Expected Outcome:\n",
    "\n",
    "[47, 52, 44, 53, 54]"
   ]
  },
  {
   "cell_type": "code",
   "execution_count": null,
   "metadata": {},
   "outputs": [],
   "source": [
    "speed = {'jan': 47, 'feb': 52, 'march': 47, 'April': 44, 'May': 52, 'June': 53, 'july': 54, 'Aug': 44, 'Sept': 54}\n",
    "\n",
    "speed_list = list()\n",
    "\n",
    "for val in speed.values():\n",
    "    if val not in speed_list:\n",
    "        speed_list.append(val)\n",
    "    else:\n",
    "        pass\n",
    "print('Unique list is: ', speed_list)"
   ]
  },
  {
   "cell_type": "markdown",
   "metadata": {},
   "source": [
    "Exercise 10: Remove duplicates from a list and create a tuple and find the minimum and maximum number\n",
    "sample_list = [87, 45, 41, 65, 94, 41, 99, 94]\n",
    "Expected Outcome:\n",
    "\n",
    "unique items [87, 45, 41, 65, 99]\n",
    "tuple (87, 45, 41, 65, 99)\n",
    "min: 41\n",
    "max: 99"
   ]
  },
  {
   "cell_type": "code",
   "execution_count": 5,
   "metadata": {},
   "outputs": [
    {
     "name": "stdout",
     "output_type": "stream",
     "text": [
      "Unique items  [65, 99, 41, 45, 87, 94]\n",
      "Tuple  (65, 99, 41, 45, 87, 94)\n",
      "min: 41\n",
      "max: 99\n"
     ]
    }
   ],
   "source": [
    "\n",
    "sample_list = [87, 45, 41, 65, 94, 41, 99, 94]\n",
    "unique_list = list(set(sample_list))\n",
    "\n",
    "# without using set \n",
    "# unique_list = list()\n",
    "# for val in sample_list:\n",
    "#     if val not in unique_list:\n",
    "#         unique_list.append(val)\n",
    "#     else:\n",
    "#         pass\n",
    "\n",
    "print('Unique items ', unique_list)\n",
    "unique_list_tup = tuple(unique_list)\n",
    "print('Tuple ', unique_list_tup)\n",
    "print('min:',min(unique_list_tup))\n",
    "print('max:',max(unique_list_tup))"
   ]
  },
  {
   "cell_type": "code",
   "execution_count": null,
   "metadata": {},
   "outputs": [],
   "source": []
  }
 ],
 "metadata": {
  "kernelspec": {
   "display_name": "Python 3",
   "language": "python",
   "name": "python3"
  },
  "language_info": {
   "codemirror_mode": {
    "name": "ipython",
    "version": 3
   },
   "file_extension": ".py",
   "mimetype": "text/x-python",
   "name": "python",
   "nbconvert_exporter": "python",
   "pygments_lexer": "ipython3",
   "version": "3.12.1"
  }
 },
 "nbformat": 4,
 "nbformat_minor": 2
}
