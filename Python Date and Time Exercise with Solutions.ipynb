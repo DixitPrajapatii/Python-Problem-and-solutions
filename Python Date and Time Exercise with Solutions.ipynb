{
 "cells": [
  {
   "cell_type": "markdown",
   "metadata": {},
   "source": [
    "Python Date and Time Exercise with Solutions"
   ]
  },
  {
   "cell_type": "markdown",
   "metadata": {},
   "source": [
    "Exercise 1: Print current date and time in Python\n"
   ]
  },
  {
   "cell_type": "code",
   "execution_count": 3,
   "metadata": {},
   "outputs": [
    {
     "name": "stdout",
     "output_type": "stream",
     "text": [
      "2024-05-14 15:56:27.446714\n",
      "15:56:27.446714\n"
     ]
    }
   ],
   "source": [
    "import datetime\n",
    "\n",
    "print(datetime.datetime.now())\n",
    "\n",
    "print(datetime.datetime.now().time())"
   ]
  },
  {
   "cell_type": "markdown",
   "metadata": {},
   "source": [
    "Exercise 2: Convert string into a datetime object\n",
    "For example, You received the following date in string format. Please convert it into Python’s DateTime object.\n",
    "\n",
    "Refer: Python String to DateTime\n",
    "\n",
    "Given:\n",
    "\n",
    "date_string = \"Feb 25 2020 4:20PM\"\n",
    "Expected output:\n",
    "\n",
    "2020-02-25 16:20:00"
   ]
  },
  {
   "cell_type": "code",
   "execution_count": 6,
   "metadata": {},
   "outputs": [
    {
     "name": "stdout",
     "output_type": "stream",
     "text": [
      "2020-02-25 16:20:00\n"
     ]
    }
   ],
   "source": [
    "from datetime import datetime\n",
    "\n",
    "date_string = \"Feb 25 2020  4:20PM\"\n",
    "datetime_object = datetime.strptime(date_string, '%b %d %Y %I:%M%p')\n",
    "print(datetime_object)"
   ]
  },
  {
   "cell_type": "markdown",
   "metadata": {},
   "source": [
    "Exercise 3: Subtract a week (7 days)  from a given date in Python\n",
    "Given:\n",
    "given_date = datetime(2020, 2, 25)\n",
    "Expected output:\n",
    "\n",
    "2020-02-18"
   ]
  },
  {
   "cell_type": "code",
   "execution_count": 8,
   "metadata": {},
   "outputs": [
    {
     "name": "stdout",
     "output_type": "stream",
     "text": [
      "New Date\n",
      "2020-02-18 00:00:00\n"
     ]
    }
   ],
   "source": [
    "from datetime import datetime, timedelta\n",
    "given_date = datetime(2020, 2, 25)\n",
    "\n",
    "days_to_subtract = 7\n",
    "res_date = given_date - timedelta(days=days_to_subtract)\n",
    "print(\"New Date\")\n",
    "print(res_date)"
   ]
  },
  {
   "cell_type": "markdown",
   "metadata": {},
   "source": [
    "Exercise 4: Print a date in a the following format\n",
    "Day_name  Day_number  Month_name  Year\n",
    "\n",
    "\n",
    "Given:\n",
    "\n",
    "given_date = datetime(2020, 2, 25)\n",
    "Expected output:\n",
    "\n",
    "Tuesday 25 February 2020"
   ]
  },
  {
   "cell_type": "code",
   "execution_count": 10,
   "metadata": {},
   "outputs": [
    {
     "name": "stdout",
     "output_type": "stream",
     "text": [
      "Given date is\n",
      "Tuesday 25 February 2020\n"
     ]
    }
   ],
   "source": [
    "from datetime import datetime\n",
    "\n",
    "given_date = datetime(2020, 2, 25)\n",
    "print(\"Given date is\")\n",
    "print(given_date.strftime('%A %d %B %Y'))"
   ]
  },
  {
   "cell_type": "markdown",
   "metadata": {},
   "source": [
    "Exercise 5: Find the day of the week of a given date\n",
    "Given:\n",
    "\n",
    "given_date = datetime(2020, 7, 26)\n",
    "Expected output:\n",
    "\n",
    "Sunday"
   ]
  },
  {
   "cell_type": "code",
   "execution_count": 11,
   "metadata": {},
   "outputs": [
    {
     "name": "stdout",
     "output_type": "stream",
     "text": [
      "Sunday\n"
     ]
    }
   ],
   "source": [
    "from datetime import datetime\n",
    "given_date = datetime(2020, 7, 26)\n",
    "print(given_date.strftime('%A'))"
   ]
  },
  {
   "cell_type": "markdown",
   "metadata": {},
   "source": [
    "Exercise 6: Add a week (7 days) and 12 hours to a given date\n",
    "Given:\n",
    "\n",
    "# 2020-03-22 10:00:00\n",
    "given_date = datetime(2020, 3, 22, 10, 0, 0)\n",
    "Expected output:\n",
    "\n",
    "2020-03-29 22:00:00"
   ]
  },
  {
   "cell_type": "code",
   "execution_count": 28,
   "metadata": {},
   "outputs": [
    {
     "name": "stdout",
     "output_type": "stream",
     "text": [
      "New Date\n",
      "2020-03-29 22:00:00\n"
     ]
    }
   ],
   "source": [
    "from datetime import datetime\n",
    "\n",
    "given_date = datetime(2020, 3, 22, 10, 0, 0)\n",
    "\n",
    "days_to_add = 7\n",
    "res_date = given_date + timedelta(days=days_to_add, hours=12)\n",
    "print(\"New Date\")\n",
    "print(res_date)\n",
    "\n",
    "# print(datetime.strftime(given_date, '%Y-%m-%d %H:%M:%S'))"
   ]
  },
  {
   "cell_type": "markdown",
   "metadata": {},
   "source": [
    "Exercise 7: Print current time in milliseconds"
   ]
  },
  {
   "cell_type": "code",
   "execution_count": 29,
   "metadata": {},
   "outputs": [
    {
     "name": "stdout",
     "output_type": "stream",
     "text": [
      "1715683033701\n"
     ]
    }
   ],
   "source": [
    "import time\n",
    "\n",
    "milliseconds = int(round(time.time() * 1000))\n",
    "print(milliseconds)"
   ]
  },
  {
   "cell_type": "markdown",
   "metadata": {},
   "source": [
    "Exercise 8: Convert the following datetime into a string\n",
    "Given:\n",
    "\n",
    "given_date = datetime(2020, 2, 25)\n",
    "Expected output:\n",
    "\n",
    "\"2020-02-25 00:00:00\""
   ]
  },
  {
   "cell_type": "code",
   "execution_count": 35,
   "metadata": {},
   "outputs": [
    {
     "name": "stdout",
     "output_type": "stream",
     "text": [
      "2020-02-25 00:00:00\n"
     ]
    }
   ],
   "source": [
    "from datetime import datetime\n",
    "given_date = datetime(2020, 2, 25)\n",
    "\n",
    "print(datetime.strftime(given_date,'%Y-%m-%d %H:%M:%S'))"
   ]
  },
  {
   "cell_type": "markdown",
   "metadata": {},
   "source": [
    "Exercise 9: Calculate the date 4 months from the current date\n",
    "Given:\n",
    "\n",
    "# 2020-02-25\n",
    "given_date = datetime(2020, 2, 25).date()\n",
    "Expected output:\n",
    "2020-06-25"
   ]
  },
  {
   "cell_type": "code",
   "execution_count": 37,
   "metadata": {},
   "outputs": [
    {
     "name": "stdout",
     "output_type": "stream",
     "text": [
      "2020-06-25\n"
     ]
    }
   ],
   "source": [
    "from datetime import datetime\n",
    "\n",
    "from dateutil.relativedelta import relativedelta\n",
    "\n",
    "# 2020-02-25\n",
    "given_date = datetime(2020, 2, 25).date()\n",
    "\n",
    "months_to_add = 4\n",
    "new_date = given_date + relativedelta(months=+ months_to_add)\n",
    "print(new_date)"
   ]
  },
  {
   "cell_type": "markdown",
   "metadata": {},
   "source": [
    "Exercise 10: Calculate number of days between two given dates\n",
    "Given:\n",
    "\n",
    "# 2020-02-25\n",
    "date_1 = datetime(2020, 2, 25)\n",
    "\n",
    "# 2020-09-17\n",
    "date_2 = datetime(2020, 9, 17)\n",
    "Expected output:\n",
    "205 days    "
   ]
  },
  {
   "cell_type": "code",
   "execution_count": 38,
   "metadata": {},
   "outputs": [
    {
     "name": "stdout",
     "output_type": "stream",
     "text": [
      "date_2 is greater\n",
      "Difference is 205 days\n"
     ]
    }
   ],
   "source": [
    "from datetime import datetime\n",
    "\n",
    "# 2020-02-25\n",
    "date_1 = datetime(2020, 2, 25).date()\n",
    "# 2020-09-17\n",
    "date_2 = datetime(2020, 9, 17).date()\n",
    "\n",
    "delta = None\n",
    "if date_1 > date_2:\n",
    "    print(\"date_1 is greater\")\n",
    "    delta = date_1 - date_2\n",
    "else:\n",
    "    print(\"date_2 is greater\")\n",
    "    delta = date_2 - date_1\n",
    "print(\"Difference is\", delta.days, \"days\")\n"
   ]
  },
  {
   "cell_type": "code",
   "execution_count": null,
   "metadata": {},
   "outputs": [],
   "source": []
  }
 ],
 "metadata": {
  "kernelspec": {
   "display_name": "Python 3",
   "language": "python",
   "name": "python3"
  },
  "language_info": {
   "codemirror_mode": {
    "name": "ipython",
    "version": 3
   },
   "file_extension": ".py",
   "mimetype": "text/x-python",
   "name": "python",
   "nbconvert_exporter": "python",
   "pygments_lexer": "ipython3",
   "version": "3.12.1"
  }
 },
 "nbformat": 4,
 "nbformat_minor": 2
}
