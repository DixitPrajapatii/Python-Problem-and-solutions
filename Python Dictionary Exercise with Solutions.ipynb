{
 "cells": [
  {
   "cell_type": "markdown",
   "metadata": {},
   "source": [
    "Python Dictionary Exercise with Solutions"
   ]
  },
  {
   "cell_type": "markdown",
   "metadata": {},
   "source": [
    "Exercise 1: Convert two lists into a dictionary\n",
    "Below are the two lists. Write a Python program to convert them into a dictionary in a way that item from list1 is the key and item from list2 is the value\n",
    "\n",
    "keys = ['Ten', 'Twenty', 'Thirty']\n",
    "values = [10, 20, 30]\n",
    "Expected output:\n",
    "\n",
    "{'Ten': 10, 'Twenty': 20, 'Thirty': 30}"
   ]
  },
  {
   "cell_type": "code",
   "execution_count": null,
   "metadata": {},
   "outputs": [],
   "source": [
    "keys = ['Ten', 'Twenty', 'Thirty']\n",
    "values = [10, 20, 30]\n",
    "\n",
    "# First way\n",
    "# a = tuple(zip(keys,values))\n",
    "# dict(a)\n",
    "\n",
    "#second way\n",
    "# dict1 = {}\n",
    "# index = 0\n",
    "# for key in keys:\n",
    "#     dict1[key]=values[index]\n",
    "#     index+=1\n",
    "# dict1\n",
    "\n",
    "#3\n",
    "\n",
    "# keys = ['Ten', 'Twenty', 'Thirty']\n",
    "# values = [10, 20, 30]\n",
    "\n",
    "# # empty dictionary\n",
    "# res_dict = dict()\n",
    "\n",
    "# for i in range(len(keys)):\n",
    "#     res_dict.update({keys[i]: values[i]})\n",
    "# print(res_dict)"
   ]
  },
  {
   "cell_type": "markdown",
   "metadata": {},
   "source": [
    "Exercise 2: Merge two Python dictionaries into one\n",
    "dict1 = {'Ten': 10, 'Twenty': 20, 'Thirty': 30}\n",
    "dict2 = {'Thirty': 30, 'Fourty': 40, 'Fifty': 50}\n",
    "Expected output:\n",
    "\n",
    "{'Ten': 10, 'Twenty': 20, 'Thirty': 30, 'Fourty': 40, 'Fifty': 50}"
   ]
  },
  {
   "cell_type": "code",
   "execution_count": null,
   "metadata": {},
   "outputs": [],
   "source": [
    "dict1 = {'Ten': 10, 'Twenty': 20, 'Thirty': 30}\n",
    "dict2 = {'Thirty': 30, 'Fourty': 40, 'Fifty': 50}\n",
    "\n",
    "# dict1.update(dict2)\n",
    "# dict1\n",
    "dict3 = {**dict1, **dict2}\n",
    "print(dict3)"
   ]
  },
  {
   "cell_type": "markdown",
   "metadata": {},
   "source": [
    "Exercise 3: Print the value of key ‘history’ from the below dict\n",
    "sampleDict = {\n",
    "    \"class\": {\n",
    "        \"student\": {\n",
    "            \"name\": \"Mike\",\n",
    "            \"marks\": {\n",
    "                \"physics\": 70,\n",
    "                \"history\": 80\n",
    "            }\n",
    "        }\n",
    "    }\n",
    "}\n",
    "Expected output:\n",
    "\n",
    "80\n"
   ]
  },
  {
   "cell_type": "code",
   "execution_count": null,
   "metadata": {},
   "outputs": [],
   "source": [
    "sampleDict = {\n",
    "    \"class\": {\n",
    "        \"student\": {\n",
    "            \"name\": \"Mike\",\n",
    "            \"marks\": {\n",
    "                \"physics\": 70,\n",
    "                \"history\": 80\n",
    "            }\n",
    "        }\n",
    "    }\n",
    "}\n",
    "sampleDict['class']['student']['marks']['history']"
   ]
  },
  {
   "cell_type": "markdown",
   "metadata": {},
   "source": [
    "Exercise 4: Initialize dictionary with default values\n",
    "In Python, we can initialize the keys with the same values.\n",
    "\n",
    "Given:\n",
    "\n",
    "employees = ['Kelly', 'Emma']\n",
    "defaults = {\"designation\": 'Developer', \"salary\": 8000}\n",
    "\n",
    "Expected output:\n",
    "{'Kelly': {'designation': 'Developer', 'salary': 8000}, 'Emma': {'designation': 'Developer', 'salary': 8000}}"
   ]
  },
  {
   "cell_type": "code",
   "execution_count": null,
   "metadata": {},
   "outputs": [],
   "source": [
    "employees = ['Kelly', 'Emma']\n",
    "defaults = {\"designation\": 'Developer', \"salary\": 8000}\n",
    "\n",
    "res = dict.fromkeys(employees, defaults)\n",
    "print(res)\n",
    "\n",
    "# Individual data\n",
    "print(res[\"Kelly\"])\n",
    "# employees = ['Kelly', 'Emma']\n",
    "# defaults = {\"designation\": 'Developer', \"salary\": 8000}\n",
    "\n",
    "# new_dict = dict()\n",
    "\n",
    "# for val in employees:\n",
    "#     new_dict[val]=defaults\n",
    "\n",
    "# new_dict"
   ]
  },
  {
   "cell_type": "markdown",
   "metadata": {},
   "source": [
    "Exercise 5: Create a dictionary by extracting the keys from a given dictionary\n",
    "Write a Python program to create a new dictionary by extracting the mentioned keys from the below dictionary.\n",
    "\n",
    "Given dictionary:\n",
    "\n",
    "sample_dict = {\n",
    "    \"name\": \"Kelly\",\n",
    "    \"age\": 25,\n",
    "    \"salary\": 8000,\n",
    "    \"city\": \"New york\"}\n",
    "\n",
    "# Keys to extract\n",
    "keys = [\"name\", \"salary\"]\n",
    "\n",
    "Expected output:\n",
    "\n",
    "{'name': 'Kelly', 'salary': 8000}"
   ]
  },
  {
   "cell_type": "code",
   "execution_count": null,
   "metadata": {},
   "outputs": [],
   "source": [
    "# sample_dict = {\n",
    "#     \"name\": \"Kelly\",\n",
    "#     \"age\": 25,\n",
    "#     \"salary\": 8000,\n",
    "#     \"city\": \"New york\"}\n",
    "\n",
    "# keys = ['name','salary']\n",
    "\n",
    "# new_dict = {k:sample_dict[k] for k in keys}\n",
    "# new_dict\n",
    "    \n",
    "\n",
    "# Solution 2: Using the update() method and loop\n",
    "\n",
    "# sample_dict = {\n",
    "#     \"name\": \"Kelly\",\n",
    "#     \"age\": 25,\n",
    "#     \"salary\": 8000,\n",
    "#     \"city\": \"New york\"}\n",
    "\n",
    "# # keys to extract\n",
    "# keys = [\"name\", \"salary\"]\n",
    "\n",
    "# # new dict\n",
    "# res = dict()\n",
    "\n",
    "# for k in keys:\n",
    "#     # add current key with its va;ue from sample_dict\n",
    "#     res.update({k: sample_dict[k]})\n",
    "# print(res)"
   ]
  },
  {
   "cell_type": "markdown",
   "metadata": {},
   "source": [
    "Exercise 6: Delete a list of keys from a dictionary\n",
    "Given:\n",
    "\n",
    "sample_dict = {\n",
    "    \"name\": \"Kelly\",\n",
    "    \"age\": 25,\n",
    "    \"salary\": 8000,\n",
    "    \"city\": \"New york\"\n",
    "}\n",
    "\n",
    "# Keys to remove\n",
    "keys = [\"name\", \"salary\"]\n",
    "Expected output:\n",
    "\n",
    "{'city': 'New york', 'age': 25}"
   ]
  },
  {
   "cell_type": "code",
   "execution_count": null,
   "metadata": {},
   "outputs": [],
   "source": [
    "# sample_dict = {\n",
    "#     \"name\": \"Kelly\",\n",
    "#     \"age\": 25,\n",
    "#     \"salary\": 8000,\n",
    "#     \"city\": \"New york\"\n",
    "# }\n",
    "\n",
    "# keys = ['name','salary']\n",
    "\n",
    "# new_dict = {}\n",
    "# for val in sample_dict.keys():\n",
    "#     if val in keys:\n",
    "#         pass\n",
    "#     else:\n",
    "#         new_dict[val]=sample_dict[val]\n",
    "# new_dict\n",
    "\n",
    "# ----------------------------------------------------\n",
    "# sample_dict = {\n",
    "#     \"name\": \"Kelly\",\n",
    "#     \"age\": 25,\n",
    "#     \"salary\": 8000,\n",
    "#     \"city\": \"New york\"\n",
    "# }\n",
    "# # Keys to remove\n",
    "# keys = [\"name\", \"salary\"]\n",
    "\n",
    "# for k in keys:\n",
    "#     sample_dict.pop(k)\n",
    "# print(sample_dict)\n",
    "\n",
    "\n",
    "# Solution 2: Dictionary Comprehension\n",
    "\n",
    "# sample_dict = {\n",
    "#     \"name\": \"Kelly\",\n",
    "#     \"age\": 25,\n",
    "#     \"salary\": 8000,\n",
    "#     \"city\": \"New york\"\n",
    "# }\n",
    "# # Keys to remove\n",
    "# keys = [\"name\", \"salary\"]\n",
    "\n",
    "# sample_dict = {k: sample_dict[k] for k in sample_dict.keys() - keys}\n",
    "# print(sample_dict)"
   ]
  },
  {
   "cell_type": "markdown",
   "metadata": {},
   "source": [
    "Exercise 7: Check if a value exists in a dictionary\n",
    "We know how to check if the key exists in a dictionary. Sometimes it is required to check if the given value is present.\n",
    "\n",
    "Write a Python program to check if value 200 exists in the following dictionary.\n",
    "\n",
    "Given:\n",
    "\n",
    "sample_dict = {'a': 100, 'b': 200, 'c': 300}\n",
    "Expected output:\n",
    "\n",
    "200 present in a dict"
   ]
  },
  {
   "cell_type": "code",
   "execution_count": null,
   "metadata": {},
   "outputs": [],
   "source": [
    "sample_dict = {'a': 100, 'b': 200, 'c': 300}\n",
    "\n",
    "for val in sample_dict.values():\n",
    "    if val == 200:\n",
    "        print('200 present in a dict')\n",
    "    "
   ]
  },
  {
   "cell_type": "markdown",
   "metadata": {},
   "source": [
    "Exercise 8: Rename key of a dictionary\n",
    "Write a program to rename a key city to a location in the following dictionary.\n",
    "\n",
    "Given:\n",
    "\n",
    "sample_dict = {\n",
    "  \"name\": \"Kelly\",\n",
    "  \"age\":25,\n",
    "  \"salary\": 8000,\n",
    "  \"city\": \"New york\"\n",
    "}\n",
    "Expected output:\n",
    "\n",
    "{'name': 'Kelly', 'age': 25, 'salary': 8000, 'location': 'New york'}\n"
   ]
  },
  {
   "cell_type": "code",
   "execution_count": null,
   "metadata": {},
   "outputs": [],
   "source": [
    "sample_dict = {\n",
    "  \"name\": \"Kelly\",\n",
    "  \"age\":25,\n",
    "  \"salary\": 8000,\n",
    "  \"city\": \"New york\"\n",
    "}\n",
    "\n",
    "sample_dict['location'] = sample_dict.pop('city')\n",
    "print(sample_dict)\n"
   ]
  },
  {
   "cell_type": "markdown",
   "metadata": {},
   "source": [
    "Exercise 9: Get the key of a minimum value from the following dictionary\n",
    "sample_dict = {\n",
    "  'Physics': 82,\n",
    "  'Math': 65,\n",
    "  'history': 75\n",
    "}\n",
    "\n",
    "Expected output:\n",
    "\n",
    "Math"
   ]
  },
  {
   "cell_type": "code",
   "execution_count": null,
   "metadata": {},
   "outputs": [],
   "source": [
    "sample_dict = {\n",
    "  'Physics': 82,\n",
    "  'Math': 65,\n",
    "  'history': 75\n",
    "}\n",
    "\n",
    "print(min(sample_dict, key=sample_dict.get))"
   ]
  },
  {
   "cell_type": "markdown",
   "metadata": {},
   "source": [
    "Write a Python program to change Brad’s salary to 8500 in the following dictionary.\n",
    "\n",
    "Given:\n",
    "\n",
    "sample_dict = {\n",
    "    'emp1': {'name': 'Jhon', 'salary': 7500},\n",
    "    'emp2': {'name': 'Emma', 'salary': 8000},\n",
    "    'emp3': {'name': 'Brad', 'salary': 500}\n",
    "}\n",
    "Expected output:\n",
    "\n",
    "{  \n",
    "   'emp1': {'name': 'Jhon', 'salary': 7500},\n",
    "   'emp2': {'name': 'Emma', 'salary': 8000},\n",
    "   'emp3': {'name': 'Brad', 'salary': 8500}\n",
    "}"
   ]
  },
  {
   "cell_type": "code",
   "execution_count": null,
   "metadata": {},
   "outputs": [],
   "source": [
    "sample_dict = {\n",
    "    'emp1': {'name': 'Jhon', 'salary': 7500},\n",
    "    'emp2': {'name': 'Emma', 'salary': 8000},\n",
    "    'emp3': {'name': 'Brad', 'salary': 500}\n",
    "}\n",
    "\n",
    "sample_dict['emp3']['salary']=8500\n",
    "print(sample_dict)"
   ]
  },
  {
   "cell_type": "code",
   "execution_count": null,
   "metadata": {},
   "outputs": [],
   "source": []
  }
 ],
 "metadata": {
  "kernelspec": {
   "display_name": "Python 3",
   "language": "python",
   "name": "python3"
  },
  "language_info": {
   "codemirror_mode": {
    "name": "ipython",
    "version": 3
   },
   "file_extension": ".py",
   "mimetype": "text/x-python",
   "name": "python",
   "nbconvert_exporter": "python",
   "pygments_lexer": "ipython3",
   "version": "3.12.1"
  }
 },
 "nbformat": 4,
 "nbformat_minor": 2
}
