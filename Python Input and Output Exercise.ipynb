{
 "cells": [
  {
   "cell_type": "markdown",
   "metadata": {},
   "source": [
    "Exercise 1: Accept numbers from a user\n",
    "Write a program to accept two numbers from the user and calculate multiplication"
   ]
  },
  {
   "cell_type": "code",
   "execution_count": null,
   "metadata": {},
   "outputs": [],
   "source": [
    "def multiplication_with_user_input():\n",
    "    value1 = int(input('Please enter first value:'))\n",
    "    value2 = int(input('Please enter second value:'))\n",
    "\n",
    "    output = value1 * value2\n",
    "    return output\n",
    "\n",
    "multiplication_with_user_input()"
   ]
  },
  {
   "cell_type": "markdown",
   "metadata": {},
   "source": [
    "Exercise 2: Display three string “Name”, “Is”, “James” as “Name**Is**James”\n",
    "Use the print() function to format the given words in the mentioned format. Display the ** separator between each string.\n",
    "\n",
    "Expected Output:\n",
    "\n",
    "For example: print('Name', 'Is', 'James') will display Name**Is**James"
   ]
  },
  {
   "cell_type": "code",
   "execution_count": null,
   "metadata": {},
   "outputs": [],
   "source": [
    "print('Name', 'Is', 'James', sep='**')"
   ]
  },
  {
   "cell_type": "code",
   "execution_count": null,
   "metadata": {},
   "outputs": [],
   "source": [
    "help(print)"
   ]
  },
  {
   "cell_type": "markdown",
   "metadata": {},
   "source": [
    "Exercise 3: Convert Decimal number to octal using print() output formatting\n",
    "Given:\n",
    "\n",
    "num = 8\n",
    "Expected Output:\n",
    "\n",
    "The octal number of decimal number 8 is 10"
   ]
  },
  {
   "cell_type": "code",
   "execution_count": null,
   "metadata": {},
   "outputs": [],
   "source": [
    "num = 8\n",
    "print('%o' % num)\n",
    "\n",
    "# num = 8\n",
    "# octal_num = int(str(oct(num))[2::])\n",
    "# print(f'The octal number of decimal number {num} is {octal_num}')"
   ]
  },
  {
   "cell_type": "markdown",
   "metadata": {},
   "source": [
    "Exercise 4: Display float number with 2 decimal places using print()\n",
    "Given:\n",
    "\n",
    "num = 458.541315\n",
    "Expected Output:\n",
    "\n",
    "458.54"
   ]
  },
  {
   "cell_type": "code",
   "execution_count": null,
   "metadata": {},
   "outputs": [],
   "source": [
    "num = 458.541315\n",
    "print(format(num,\".2f\"))"
   ]
  },
  {
   "cell_type": "markdown",
   "metadata": {},
   "source": [
    "Exercise 5: Accept a list of 5 float numbers as an input from the user\n",
    "Refer:\n",
    "\n",
    "Take list as a input in Python.\n",
    "Python list\n",
    "Expected Output:\n",
    "\n",
    "[78.6, 78.6, 85.3, 1.2, 3.5]"
   ]
  },
  {
   "cell_type": "code",
   "execution_count": null,
   "metadata": {},
   "outputs": [],
   "source": [
    "def list_of_5_float():\n",
    "    listdata = []\n",
    "    for repetation in range(5):\n",
    "        user_input = float(input('Please enter the value:'))\n",
    "        listdata.append(user_input)\n",
    "    return listdata\n",
    "\n",
    "list_of_5_float()"
   ]
  },
  {
   "cell_type": "markdown",
   "metadata": {},
   "source": [
    "Exercise 6: Write all content of a given file into a new file by skipping line number 5\n",
    "\n",
    "Create a test.txt file and add the below content to it.\n",
    "\n",
    "Given test.txt file:\n",
    "\n",
    "line1\n",
    "line2\n",
    "line3\n",
    "line4\n",
    "line5\n",
    "line6\n",
    "line7\n",
    "Expected Output: new_file.txt\n",
    "\n",
    "line1\n",
    "line2\n",
    "line3\n",
    "line4\n",
    "line6\n",
    "line7"
   ]
  },
  {
   "cell_type": "code",
   "execution_count": null,
   "metadata": {},
   "outputs": [],
   "source": [
    "# with open('./test.txt', 'w') as demofile:\n",
    "#     demofile.write('line1\\nline2\\nline3\\nline4\\nline5\\nline6\\nline7')\n",
    "#     demofile.close()\n",
    "\n",
    "with open('./test.txt', 'r') as demofile:\n",
    "    count = 0\n",
    "    for line in demofile.readlines():\n",
    "        if count ==4:\n",
    "            pass\n",
    "        else:\n",
    "            print(line)\n",
    "        count+=1\n",
    "        \n",
    "\n"
   ]
  },
  {
   "cell_type": "markdown",
   "metadata": {},
   "source": [
    "Exercise 7: Accept any three string from one input() call\n",
    "Write a program to take three names as input from a user in the single input() function call.\n",
    "\n",
    "See: Get multiple inputs from a user in one line\n",
    "\n",
    "Expected Output\n",
    "\n",
    "Enter three string Emma Jessa Kelly\n",
    "Name1: Emma\n",
    "Name2: Jessa\n",
    "Name3: Kelly"
   ]
  },
  {
   "cell_type": "code",
   "execution_count": null,
   "metadata": {},
   "outputs": [],
   "source": [
    "str1, str2, str3 = input(\"Enter three string with space seprator\").split()\n",
    "print('Name1:', str1)\n",
    "print('Name2:', str2)\n",
    "print('Name3:', str3)\n",
    "# listname = []\n",
    "# for repetition in range(3):\n",
    "#     str_val = input('Please enter string value: ')\n",
    "#     listname.append(str_val)\n",
    "# print(f'Name1: {listname[0]}\\nName2: {listname[1]}\\nName3: {listname[2]}')"
   ]
  },
  {
   "cell_type": "markdown",
   "metadata": {},
   "source": [
    "Exercise 8: Format variables using a string.format() method.\n",
    "Write a program to use string.format() method to format the following three variables as per the expected output\n",
    "\n",
    "Given:\n",
    "totalMoney = 1000\n",
    "quantity = 3\n",
    "price = 450\n",
    "Expected Output:\n",
    "I have 1000 dollars so I can buy 3 football for 450.00 dollars."
   ]
  },
  {
   "cell_type": "code",
   "execution_count": null,
   "metadata": {},
   "outputs": [],
   "source": [
    "totalMoney = 1000\n",
    "quantity = 3\n",
    "price = 450\n",
    "print('I have {0} dollars so I can buy {1} football for {2} dollars.'.format(totalMoney, quantity, float(price)))"
   ]
  },
  {
   "cell_type": "markdown",
   "metadata": {},
   "source": [
    "Exercise 9: Check file is empty or not\n",
    "Write a program to check if the given file is empty or not"
   ]
  },
  {
   "cell_type": "code",
   "execution_count": null,
   "metadata": {},
   "outputs": [],
   "source": [
    "import os\n",
    "size = os.stat(\"test.txt\").st_size   # this is to use to check the file size\n",
    "if size ==0:\n",
    "    print('This file is empty')\n",
    "else:\n",
    "    print('This file is not empty')"
   ]
  },
  {
   "cell_type": "markdown",
   "metadata": {},
   "source": [
    "Exercise 10: Read line number 4 from the following file\n",
    "See:\n",
    "\n",
    "Read Specific Lines From a File in Python\n",
    "Python read file\n",
    "Create a test.txt file and add the below content to it.\n",
    "\n",
    "test.txt file:\n",
    "line1\n",
    "line2\n",
    "line3\n",
    "line4\n",
    "line5\n",
    "line6\n",
    "line7"
   ]
  },
  {
   "cell_type": "code",
   "execution_count": null,
   "metadata": {},
   "outputs": [],
   "source": [
    "with open(\"test.txt\", \"r\") as fp:\n",
    "    # read all lines from a file\n",
    "    lines = fp.readlines()\n",
    "    # get line number 4\n",
    "    print(lines[3])\n",
    "\n",
    "# with open('test.txt' , 'r') as file:\n",
    "#     count = 0\n",
    "#     for content in file.readlines():\n",
    "#         if count == 3:\n",
    "#             print(content)\n",
    "#         else:\n",
    "#             pass\n",
    "#         count+=1\n"
   ]
  },
  {
   "cell_type": "code",
   "execution_count": null,
   "metadata": {},
   "outputs": [],
   "source": []
  }
 ],
 "metadata": {
  "kernelspec": {
   "display_name": "Python 3",
   "language": "python",
   "name": "python3"
  },
  "language_info": {
   "codemirror_mode": {
    "name": "ipython",
    "version": 3
   },
   "file_extension": ".py",
   "mimetype": "text/x-python",
   "name": "python",
   "nbconvert_exporter": "python",
   "pygments_lexer": "ipython3",
   "version": "3.12.1"
  }
 },
 "nbformat": 4,
 "nbformat_minor": 2
}
