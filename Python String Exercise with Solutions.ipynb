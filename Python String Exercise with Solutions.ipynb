{
 "cells": [
  {
   "cell_type": "markdown",
   "metadata": {},
   "source": [
    "Python String Exercise with Solutions"
   ]
  },
  {
   "cell_type": "markdown",
   "metadata": {},
   "source": [
    "Exercise 1A: Create a string made of the first, middle and last character\n",
    "Write a program to create a new string made of an input string’s first, middle, and last character.\n",
    "\n",
    "Given:\n",
    "\n",
    "str1 = \"James\"\n",
    "Expected Output:\n",
    "\n",
    "Jms"
   ]
  },
  {
   "cell_type": "code",
   "execution_count": null,
   "metadata": {},
   "outputs": [],
   "source": [
    "str1 = \"James\"\n",
    "new_str = str1[0] + str1[len(str1)//2] + str1[-1]\n",
    "new_str"
   ]
  },
  {
   "cell_type": "markdown",
   "metadata": {},
   "source": [
    "Exercise 1B: Create a string made of the middle three characters\n",
    "Write a program to create a new string made of the middle three characters of an input string.\n",
    "\n",
    "Given:\n",
    "\n",
    "Case 1\n",
    "\n",
    "str1 = \"JhonDipPeta\"\n",
    "Output\n",
    "\n",
    "Dip\n",
    "Case 2\n",
    "\n",
    "str2 = \"JaSonAy\"\n",
    "Output\n",
    "\n",
    "Son"
   ]
  },
  {
   "cell_type": "code",
   "execution_count": null,
   "metadata": {},
   "outputs": [],
   "source": [
    "str1 = \"JaSonAy\"   #11\n",
    "# str_new = str1[(len(str1)//2)-1] + str1[len(str1)//2] + str1[(len(str1)//2)+1]\n",
    "# str_new\n",
    "\n",
    "\n",
    "def get_middle_string(value):\n",
    "    print('Original String is :', value)\n",
    "\n",
    "    middle_string = 'Middle string is: ' + value[(len(value)//2)-1] + value[len(value)//2] + value[(len(value)//2)+1]\n",
    "\n",
    "    return middle_string\n",
    "get_middle_string(str1)"
   ]
  },
  {
   "cell_type": "markdown",
   "metadata": {},
   "source": [
    "Exercise 2: Append new string in the middle of a given string\n",
    "Given two strings, s1 and s2. Write a program to create a new string s3 by appending s2 in the middle of s1.\n",
    "\n",
    "Given:\n",
    "\n",
    "s1 = \"Ault\"\n",
    "s2 = \"Kelly\"\n",
    "Expected Output:\n",
    "\n",
    "AuKellylt"
   ]
  },
  {
   "cell_type": "code",
   "execution_count": null,
   "metadata": {},
   "outputs": [],
   "source": [
    "s1 = \"Ault\"\n",
    "s2 = \"Kelly\"\n",
    "\n",
    "def adding_string_in_middle(val1,val2):\n",
    "    Append_string = val1[0:len(val1)//2] + val2 + val1[len(val1)//2::]\n",
    "    return Append_string\n",
    "\n",
    "print('The new string is: ',adding_string_in_middle(s1,s2))"
   ]
  },
  {
   "cell_type": "markdown",
   "metadata": {},
   "source": [
    "Exercise 3: Create a new string made of the first, middle, and last characters of each input string\n",
    "\n",
    "Given two strings, s1 and s2, write a program to return a new string made of s1 and s2’s first, middle, and last characters.\n",
    "\n",
    "Given:\n",
    "\n",
    "s1 = \"America\"\n",
    "s2 = \"Japan\"\n",
    "Expected Output:\n",
    "\n",
    "AJrpan"
   ]
  },
  {
   "cell_type": "code",
   "execution_count": null,
   "metadata": {},
   "outputs": [],
   "source": [
    "s1 = \"America\"\n",
    "s2 = \"Japan\"\n",
    "\n",
    "def first_middle_last_char_string(val1, val2):\n",
    "    print('First string is :', val1)\n",
    "    print('Second string is: ', val2)\n",
    "    new_string = val1[0] + val2[0] + val1[len(val1)//2] + val2[len(val2)//2] + val1[-1] + val2[-1]\n",
    "\n",
    "    return new_string\n",
    "\n",
    "first_middle_last_char_string(s1,s2)"
   ]
  },
  {
   "cell_type": "markdown",
   "metadata": {},
   "source": [
    "Exercise 4: Arrange string characters such that lowercase letters should come first\n",
    "Given string contains a combination of the lower and upper case letters. Write a program to arrange the characters of a string so that all lowercase letters should come first.\n",
    "\n",
    "Given:\n",
    "\n",
    "str1 = PyNaTive\n",
    "\n",
    "Expected Output:\n",
    "\n",
    "yaivePNT"
   ]
  },
  {
   "cell_type": "code",
   "execution_count": null,
   "metadata": {},
   "outputs": [],
   "source": [
    "str1 = 'PyNaTive'\n",
    "\n",
    "def lower_first_upper_last(value_string):    \n",
    "    remaining_char = ''\n",
    "    lower_case_letter = ''\n",
    "    for val in value_string:\n",
    "        if val == val.lower():\n",
    "            lower_case_letter = lower_case_letter + val\n",
    "        else:\n",
    "            remaining_char += val\n",
    "    \n",
    "    return lower_case_letter + remaining_char\n",
    "\n",
    "lower_first_upper_last(str1)\n"
   ]
  },
  {
   "cell_type": "markdown",
   "metadata": {},
   "source": [
    "Exercise 5: Count all letters, digits, and special symbols from a given string\n",
    "Given:\n",
    "\n",
    "str1 = \"P@#yn26at^&i5ve\"\n",
    "Expected Outcome:\n",
    "\n",
    "Total counts of chars, digits, and symbols \n",
    "\n",
    "Chars = 8 \n",
    "Digits = 3 \n",
    "Symbol = 4"
   ]
  },
  {
   "cell_type": "code",
   "execution_count": null,
   "metadata": {},
   "outputs": [],
   "source": [
    "str1 = \"P@#yn26at^&i5ve\"\n",
    "\n",
    "def count_different_values(str_value):\n",
    "    Chars = 0\n",
    "    Digits = 0\n",
    "    Symbol = 0\n",
    "    for val in str_value:\n",
    "        if val.isalpha()==True:\n",
    "            Chars+=1\n",
    "        elif val.isdigit() == True:\n",
    "            Digits+=1\n",
    "        else:\n",
    "            Symbol +=1\n",
    "    print('Chars =',Chars)\n",
    "    print('Digits =', Digits)\n",
    "    print('Symbol =', Symbol)\n",
    "\n",
    "count_different_values(str1)\n"
   ]
  },
  {
   "cell_type": "markdown",
   "metadata": {},
   "source": [
    "Exercise 6: Create a mixed String using the following rules\n",
    "Given two strings, s1 and s2. Write a program to create a new string s3 made of the first char of s1, then the last char of s2, Next, the second char of s1 and second last char of s2, and so on. Any leftover chars go at the end of the result.\n",
    "\n",
    "Given:\n",
    "\n",
    "s1 = \"Abc\"\n",
    "s2 = \"Xyz\"\n",
    "Expected Output:\n",
    "\n",
    "AzbycX"
   ]
  },
  {
   "cell_type": "code",
   "execution_count": null,
   "metadata": {},
   "outputs": [],
   "source": [
    "s1 = \"Abc\"\n",
    "s2 = \"Xyz\"\n",
    "\n",
    "# new_string = ''\n",
    "# count = -1\n",
    "# for val1 in s1:\n",
    "#     new_string+=val1\n",
    "#     for val2 in s2[count]:\n",
    "#         new_string+= val2\n",
    "#         count-=1\n",
    "#         break\n",
    "# print(new_string)\n",
    "\n",
    "\n",
    "def new_str_as_require(val1, val2):\n",
    "    print('First string is:', val1)\n",
    "    print('Second string is:', val2)\n",
    "    str_new = ''\n",
    "    negetive_position = -1\n",
    "    for char in val1:\n",
    "        str_new +=char\n",
    "        for char in val2[negetive_position]:\n",
    "            str_new += char\n",
    "            negetive_position-=1\n",
    "            break\n",
    "    return str_new\n",
    "\n",
    "new_str_as_require(s1,s2)\n"
   ]
  },
  {
   "cell_type": "markdown",
   "metadata": {},
   "source": [
    "Exercise 7: String characters balance Test\n",
    "Write a program to check if two strings are balanced. For example, strings s1 and s2 are balanced if all the characters in the s1 are present in s2. The character’s position doesn’t matter.\n",
    "\n",
    "Given:\n",
    "\n",
    "Case 1:\n",
    "\n",
    "s1 = \"Yn\"\n",
    "s2 = \"PYnative\"\n",
    "Expected Output:\n",
    "\n",
    "True\n",
    "Case 2:\n",
    "\n",
    "s1 = \"Ynf\"\n",
    "s2 = \"PYnative\"\n",
    "Expected Output:\n",
    "\n",
    "False"
   ]
  },
  {
   "cell_type": "code",
   "execution_count": null,
   "metadata": {},
   "outputs": [],
   "source": [
    "s1 = \"Yn\"\n",
    "s2 = \"PYnative\"\n",
    "\n",
    "def balance_string(val1, val2):\n",
    "    flag = True\n",
    "    for char in val1:\n",
    "        if char in val2:\n",
    "            continue\n",
    "        else:\n",
    "            flag = False\n",
    "    print(flag)\n",
    "\n",
    "balance_string(s1,s2)\n",
    "\n",
    "# value = []\n",
    "\n",
    "# for val in s1:\n",
    "#     if val in s2:\n",
    "#         value.append(True)\n",
    "#     else:\n",
    "#         value.append(False)\n",
    "\n",
    "# if False in value:\n",
    "#     print(False)\n",
    "# else:\n",
    "#     print(True)"
   ]
  },
  {
   "cell_type": "markdown",
   "metadata": {},
   "source": [
    "Exercise 8: Find all occurrences of a substring in a given string by ignoring the case\n",
    "Write a program to find all occurrences of “USA” in a given string ignoring the case.\n",
    "\n",
    "Given:\n",
    "\n",
    "str1 = \"Welcome to USA. usa awesome, isn't it?\"\n",
    "\n",
    "expected output:\n",
    "The USA count is: 2"
   ]
  },
  {
   "cell_type": "code",
   "execution_count": null,
   "metadata": {},
   "outputs": [],
   "source": [
    "str1 = \"Welcome to USA. usa awesome, isn't it?\"\n",
    "sub_string = 'USA'\n",
    "\n",
    "# count = str1.lower().count(sub_string.lower())\n",
    "\n",
    "\n",
    "def substring_count(main_string, Sub_string):\n",
    "    main_string = main_string.lower()\n",
    "    Sub_string =  Sub_string.lower()\n",
    "    count = main_string.count(Sub_string)\n",
    "    return count\n",
    "\n",
    "substring_count(str1, sub_string)"
   ]
  },
  {
   "cell_type": "markdown",
   "metadata": {},
   "source": [
    "Exercise 9: Calculate the sum and average of the digits present in a string\n",
    "Given a string s1, write a program to return the sum and average of the digits that appear in the string, ignoring all other characters.\n",
    "\n",
    "Given:\n",
    "\n",
    "str1 = \"PYnative29@#8496\"\n",
    "Expected Outcome:\n",
    "\n",
    "Sum is: 38 Average is  6.333333333333333"
   ]
  },
  {
   "cell_type": "code",
   "execution_count": null,
   "metadata": {},
   "outputs": [],
   "source": [
    "str1 = \"PYnative29@#8496\"\n",
    "\n",
    "# digit = ''\n",
    "# summ = 0\n",
    "\n",
    "# for dig in str1:\n",
    "#     if dig.isdigit() == True:\n",
    "#         digit+=dig\n",
    "#         summ+=int(dig)\n",
    "# total_length = len(digit)\n",
    "# digit=int(digit)\n",
    "\n",
    "# average = summ / total_length\n",
    "\n",
    "# summ, average\n",
    "\n",
    "def isdigit_calculation(strval):\n",
    "    digitval = ''\n",
    "    sumval = 0\n",
    "    for digit in strval:\n",
    "        if digit.isdigit() == True:\n",
    "            digitval+=digit\n",
    "            sumval+=int(digit)\n",
    "    totallen = len(digitval)\n",
    "    average1 = sumval / totallen\n",
    "    print('Sum is:',sumval, 'Average is: ',average1)\n",
    "\n",
    "isdigit_calculation(str1)\n"
   ]
  },
  {
   "cell_type": "markdown",
   "metadata": {},
   "source": [
    "Exercise 10: Write a program to count occurrences of all characters within a string\n",
    "Given:\n",
    "\n",
    "str1 = \"Apple\"\n",
    "Expected Outcome:\n",
    "\n",
    "{'A': 1, 'p': 2, 'l': 1, 'e': 1}"
   ]
  },
  {
   "cell_type": "code",
   "execution_count": null,
   "metadata": {},
   "outputs": [],
   "source": [
    "str1 = \"Apple\"\n",
    "\n",
    "def char_count_with_dictionary(string_val):\n",
    "    char_count = {}\n",
    "    for char in string_val:\n",
    "        if char not in char_count.keys():\n",
    "            char_count[char]=1\n",
    "        else:\n",
    "            char_count[char]+=1\n",
    "    return char_count\n",
    "char_count_with_dictionary(str1)"
   ]
  },
  {
   "cell_type": "markdown",
   "metadata": {},
   "source": [
    "Exercise 11: Reverse a given string\n",
    "Given:\n",
    "\n",
    "str1 = \"PYnative\"\n",
    "Expected Output:\n",
    "\n",
    "evitanYP"
   ]
  },
  {
   "cell_type": "code",
   "execution_count": null,
   "metadata": {},
   "outputs": [],
   "source": [
    "str1 = \"PYnative\"\n",
    "\n",
    "def reverse_string(str_val):\n",
    "    return str_val[::-1]\n",
    "\n",
    "reverse_string(str1)\n"
   ]
  },
  {
   "cell_type": "markdown",
   "metadata": {},
   "source": [
    "Exercise 12: Find the last position of a given substring\n",
    "Write a program to find the last position of a substring “Emma” in a given string.\n",
    "\n",
    "Given:\n",
    "\n",
    "str1 = \"Emma is a data scientist who knows Python. Emma works at google.\"\n",
    "Expected Output:\n",
    "\n",
    "Last occurrence of Emma starts at index 43"
   ]
  },
  {
   "cell_type": "code",
   "execution_count": null,
   "metadata": {},
   "outputs": [],
   "source": [
    "str1 = \"Emma is a data scientist who knows Python. Emma works at google.\"\n",
    "print(\"Original String is:\", str1)\n",
    "\n",
    "index = str1.rfind(\"Emma\")\n",
    "print(\"Last occurrence of Emma starts at index:\", index)"
   ]
  },
  {
   "cell_type": "markdown",
   "metadata": {},
   "source": [
    "Exercise 13: Split a string on hyphens\n",
    "Write a program to split a given string on hyphens and display each substring.\n",
    "Given:\n",
    "\n",
    "str1 = Emma-is-a-data-scientist\n",
    "Expected Output:\n",
    "\n",
    "Displaying each substring\n",
    "\n",
    "Emma\n",
    "is\n",
    "a\n",
    "data\n",
    "scientist"
   ]
  },
  {
   "cell_type": "code",
   "execution_count": null,
   "metadata": {},
   "outputs": [],
   "source": [
    "str1 = 'Emma-is-a-data-scientist'\n",
    "for val1 in str1.split('-'):\n",
    "    print(val1)"
   ]
  },
  {
   "cell_type": "markdown",
   "metadata": {},
   "source": [
    "Exercise 14: Remove empty strings from a list of strings\n",
    "Given:\n",
    "\n",
    "str_list = [\"Emma\", \"Jon\", \"\", \"Kelly\", None, \"Eric\", \"\"]\n",
    "Expected Output:\n",
    "\n",
    "\n",
    "Original list of sting\n",
    "['Emma', 'Jon', '', 'Kelly', None, 'Eric', '']\n",
    "\n",
    "After removing empty strings\n",
    "['Emma', 'Jon', 'Kelly', 'Eric']"
   ]
  },
  {
   "cell_type": "code",
   "execution_count": null,
   "metadata": {},
   "outputs": [],
   "source": [
    "str_list = [\"Emma\", \"Jon\", \"\", \"Kelly\", None, \"Eric\", \"\"]\n",
    "\n",
    "#using inbuild function filter to filterting out the none objects from the string\n",
    "new_string = list(filter(None,str_list))\n",
    "new_string\n",
    "\n",
    "#doing with manual operation with remove function\n",
    "# for val in str_list:\n",
    "#     if len(str(val))==0 or val==None:\n",
    "#         str_list.remove(val)\n",
    "# str_list"
   ]
  },
  {
   "cell_type": "markdown",
   "metadata": {},
   "source": [
    "Exercise 15: Remove special symbols / punctuation from a string\n",
    "Given:\n",
    "\n",
    "str1 = \"/*Jon is @developer & musician\"\n",
    "Expected Output:\n",
    "\n",
    "\"Jon is developer musician\""
   ]
  },
  {
   "cell_type": "code",
   "execution_count": null,
   "metadata": {},
   "outputs": [],
   "source": [
    "#using string method\n",
    "import string\n",
    "\n",
    "str1 = \"/*Jon is @developer & musician\"\n",
    "print(\"Original string is \", str1)\n",
    "\n",
    "new_str = str1.translate(str.maketrans('', '', string.punctuation))\n",
    "\n",
    "print(\"New string is \", new_str)\n",
    "\n",
    "# using regular Expression\n",
    "\n",
    "# import re\n",
    "\n",
    "# str1 = \"/*Jon is @developer & musician\"\n",
    "# print(\"Original string is \", str1)\n",
    "\n",
    "# # replace special symbols with ''\n",
    "# res = re.sub(r'[^\\w\\s]', '', str1)\n",
    "# print(\"New string is \", res)"
   ]
  },
  {
   "cell_type": "markdown",
   "metadata": {},
   "source": [
    "Exercise 16: Removal all characters from a string except integers\n",
    "Given:\n",
    "\n",
    "str1 = 'I am 25 years and 10 months old'\n",
    "Expected Output:\n",
    "\n",
    "2510"
   ]
  },
  {
   "cell_type": "code",
   "execution_count": null,
   "metadata": {},
   "outputs": [],
   "source": [
    "str1 = 'I am 25 years and 10 months old'\n",
    "\n",
    "res = \"\".join([item for item in str1 if item.isdigit()==True])\n",
    "res\n",
    "# for val in str1:\n",
    "#     if val.isdigit() == True:\n",
    "#         digit+=val\n",
    "# digit"
   ]
  },
  {
   "cell_type": "markdown",
   "metadata": {},
   "source": [
    "Exercise 17: Find words with both alphabets and numbers\n",
    "Write a program to find words with both alphabets and numbers from an input string.\n",
    "\n",
    "Given:\n",
    "\n",
    "str1 = \"Emma25 is Data scientist50 and AI Expert\"\n",
    "Expected Output:\n",
    "\n",
    "Emma25\n",
    "scientist50"
   ]
  },
  {
   "cell_type": "code",
   "execution_count": null,
   "metadata": {},
   "outputs": [],
   "source": [
    "str1 = \"Emma25 is Data scientist50 and AI Expert\"\n",
    "print(\"The original string is : \" + str1)\n",
    "\n",
    "res = []\n",
    "# split string on whitespace\n",
    "temp = str1.split()\n",
    "\n",
    "# Words with both alphabets and numbers\n",
    "# isdigit() for numbers + isalpha() for alphabets\n",
    "# use any() to check each character\n",
    "\n",
    "for item in temp:\n",
    "    if any(char.isalpha() for char in item) and any(char.isdigit() for char in item):\n",
    "        res.append(item)\n",
    "\n",
    "print(\"Displaying words with alphabets and numbers\")\n",
    "for i in res:\n",
    "    print(i)\n"
   ]
  },
  {
   "cell_type": "markdown",
   "metadata": {},
   "source": [
    "Exercise 18: Replace each special symbol with # in the following string\n",
    "Given:\n",
    "\n",
    "str1 = '/*Jon is @developer & musician!!'\n",
    "Expected Output:\n",
    "\n",
    "##Jon is #developer # musician##"
   ]
  },
  {
   "cell_type": "code",
   "execution_count": null,
   "metadata": {},
   "outputs": [],
   "source": [
    "str1 = '/*Jon is @developer & musician!!'\n",
    "res = ''\n",
    "\n",
    "for val in str1:\n",
    "    if val.isalpha() != True and val.isdigit() != True and val!=' ':\n",
    "        res+='#'\n",
    "    else:\n",
    "        res+=val\n",
    "res\n"
   ]
  },
  {
   "cell_type": "code",
   "execution_count": null,
   "metadata": {},
   "outputs": [],
   "source": []
  }
 ],
 "metadata": {
  "kernelspec": {
   "display_name": "Python 3",
   "language": "python",
   "name": "python3"
  },
  "language_info": {
   "codemirror_mode": {
    "name": "ipython",
    "version": 3
   },
   "file_extension": ".py",
   "mimetype": "text/x-python",
   "name": "python",
   "nbconvert_exporter": "python",
   "pygments_lexer": "ipython3",
   "version": "3.12.1"
  }
 },
 "nbformat": 4,
 "nbformat_minor": 2
}
