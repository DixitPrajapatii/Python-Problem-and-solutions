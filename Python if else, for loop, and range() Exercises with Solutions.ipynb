{
 "cells": [
  {
   "cell_type": "markdown",
   "metadata": {},
   "source": [
    "Exercise 1: Print First 10 natural numbers using while loop\n",
    "Help: while loop in Python\n",
    "\n",
    "Expected output:\n",
    "\n",
    "1\n",
    "2\n",
    "3\n",
    "4\n",
    "5\n",
    "6\n",
    "7\n",
    "8\n",
    "9\n",
    "10"
   ]
  },
  {
   "cell_type": "code",
   "execution_count": null,
   "metadata": {},
   "outputs": [],
   "source": [
    "value = 1\n",
    "while value <11:\n",
    "    print(value)\n",
    "    value+=1"
   ]
  },
  {
   "cell_type": "markdown",
   "metadata": {},
   "source": [
    "Exercise 2: Print the following pattern\n",
    "Write a program to print the following number pattern using a loop.\n",
    "\n",
    "1 \n",
    "1 2 \n",
    "1 2 3 \n",
    "1 2 3 4 \n",
    "1 2 3 4 5"
   ]
  },
  {
   "cell_type": "code",
   "execution_count": null,
   "metadata": {},
   "outputs": [],
   "source": [
    "print(\"Number Pattern \")\n",
    "row = 5\n",
    "\n",
    "for i in range(1, row + 1, 1):\n",
    "    for j in range(1, i + 1):\n",
    "        print(j, end=' ')\n",
    "    print(\"\")\n",
    "\n",
    "# -----------own---------------\n",
    "# count = 1\n",
    "# for repitition in range(1,6):\n",
    "#     for i in range(1,count+1):\n",
    "#         print(i, end ='')\n",
    "#     count+=1\n",
    "#     print('\\n', end='')"
   ]
  },
  {
   "cell_type": "markdown",
   "metadata": {},
   "source": [
    "Exercise 3: Calculate the sum of all numbers from 1 to a given number\n",
    "Write a program to accept a number from a user and calculate the sum of all numbers from 1 to a given number\n",
    "\n",
    "For example, if the user entered 10 the output should be 55 (1+2+3+4+5+6+7+8+9+10)\n",
    "\n",
    "Expected Output:\n",
    "\n",
    "Enter number 10\n",
    "Sum is:  55"
   ]
  },
  {
   "cell_type": "code",
   "execution_count": null,
   "metadata": {},
   "outputs": [],
   "source": [
    "number = int(input('Please enter the number for calculation:'))\n",
    "Total = 0\n",
    "for num in range(number+1):\n",
    "    Total = Total +num\n",
    "print(Total)"
   ]
  },
  {
   "cell_type": "markdown",
   "metadata": {},
   "source": [
    "Exercise 4: Write a program to print multiplication table of a given number\n",
    "For example, num = 2 so the output should be\n",
    "\n",
    "2\n",
    "4\n",
    "6\n",
    "8\n",
    "10\n",
    "12\n",
    "14\n",
    "16\n",
    "18\n",
    "20"
   ]
  },
  {
   "cell_type": "code",
   "execution_count": null,
   "metadata": {},
   "outputs": [],
   "source": [
    "num = 2\n",
    "for repeat in range(1,11):\n",
    "    print(repeat *num)"
   ]
  },
  {
   "cell_type": "markdown",
   "metadata": {},
   "source": [
    "Exercise 5: Display numbers from a list using loop\n",
    "\n",
    "Write a program to display only those numbers from a list that satisfy the following conditions\n",
    "\n",
    "The number must be divisible by five\n",
    "If the number is greater than 150, then skip it and move to the next number\n",
    "If the number is greater than 500, then stop the loop\n",
    "Given:\n",
    "\n",
    "numbers = [12, 75, 150, 180, 145, 525, 50]\n",
    "Expected output:\n",
    "\n",
    "75\n",
    "150\n",
    "145"
   ]
  },
  {
   "cell_type": "code",
   "execution_count": null,
   "metadata": {},
   "outputs": [],
   "source": [
    "numbers = [12, 75, 150, 180, 145, 525, 50]\n",
    "\n",
    "for val in numbers:\n",
    "    if val >500:\n",
    "        break\n",
    "    else:\n",
    "        if val % 5==0:\n",
    "            if val >150:\n",
    "                continue\n",
    "            else:\n",
    "                print(val , end=' ')\n",
    "\n"
   ]
  },
  {
   "cell_type": "markdown",
   "metadata": {},
   "source": [
    "Exercise 6: Count the total number of digits in a number\n",
    "Write a program to count the total number of digits in a number using a while loop.\n",
    "For example, the number is 75869, so the output should be 5."
   ]
  },
  {
   "cell_type": "code",
   "execution_count": 2,
   "metadata": {},
   "outputs": [
    {
     "name": "stdout",
     "output_type": "stream",
     "text": [
      "5\n"
     ]
    }
   ],
   "source": [
    "number = 75869\n",
    "count = 0\n",
    "while number !=0:\n",
    "    number = number //10\n",
    "    count +=1\n",
    "print(count)"
   ]
  },
  {
   "cell_type": "markdown",
   "metadata": {},
   "source": [
    "Exercise 7: Print the following pattern\n",
    "Write a program to use for loop to print the following reverse number pattern\n",
    "\n",
    "5 4 3 2 1 \n",
    "4 3 2 1 \n",
    "3 2 1 \n",
    "2 1 \n",
    "1"
   ]
  },
  {
   "cell_type": "code",
   "execution_count": 1,
   "metadata": {},
   "outputs": [
    {
     "name": "stdout",
     "output_type": "stream",
     "text": [
      "5 4 3 2 1 \n",
      "4 3 2 1 \n",
      "3 2 1 \n",
      "2 1 \n",
      "1 \n"
     ]
    }
   ],
   "source": [
    "for j in range(5,0,-1):\n",
    "    for i in range(j,0,-1):\n",
    "        print(i, end=' ')\n",
    "    print('')"
   ]
  },
  {
   "cell_type": "markdown",
   "metadata": {},
   "source": [
    "Exercise 8: Print list in reverse order using a loop\n",
    "Given:\n",
    "list1 = [10, 20, 30, 40, 50]\n",
    "Expected output:\n",
    "50\n",
    "40\n",
    "30\n",
    "20\n",
    "10"
   ]
  },
  {
   "cell_type": "code",
   "execution_count": 44,
   "metadata": {},
   "outputs": [
    {
     "name": "stdout",
     "output_type": "stream",
     "text": [
      "50\n",
      "40\n",
      "30\n",
      "20\n",
      "10\n"
     ]
    }
   ],
   "source": [
    "list1 = [10, 20, 30, 40, 50]\n",
    "new_list = reversed(list1)\n",
    "for item in new_list:\n",
    "    print(item)\n",
    "\n",
    "# list1 = [10, 20, 30, 40, 50]\n",
    "# index = len(list1) -1\n",
    "# for value in list1:\n",
    "#     print(list1[index])\n",
    "#     index-=1\n"
   ]
  },
  {
   "cell_type": "markdown",
   "metadata": {},
   "source": [
    "Exercise 9: Display numbers from -10 to -1 using for loop\n",
    "Expected output:\n",
    "\n",
    "-10\n",
    "-9\n",
    "-8\n",
    "-7\n",
    "-6\n",
    "-5\n",
    "-4\n",
    "-3\n",
    "-2\n",
    "-1"
   ]
  },
  {
   "cell_type": "code",
   "execution_count": 49,
   "metadata": {},
   "outputs": [
    {
     "name": "stdout",
     "output_type": "stream",
     "text": [
      "-10\n",
      "-9\n",
      "-8\n",
      "-7\n",
      "-6\n",
      "-5\n",
      "-4\n",
      "-3\n",
      "-2\n",
      "-1\n"
     ]
    }
   ],
   "source": [
    "for val in range(-10,0):\n",
    "    print(val)"
   ]
  },
  {
   "cell_type": "markdown",
   "metadata": {},
   "source": [
    "Exercise 10: Use else block to display a message “Done” after successful execution of for loop\n",
    "For example, the following loop will execute without any error.\n",
    "\n",
    "Given:\n",
    "\n",
    "for i in range(5):\n",
    "    print(i)\n",
    "Expected output:\n",
    "\n",
    "0\n",
    "1\n",
    "2\n",
    "3\n",
    "4\n",
    "Done!"
   ]
  },
  {
   "cell_type": "code",
   "execution_count": 50,
   "metadata": {},
   "outputs": [
    {
     "name": "stdout",
     "output_type": "stream",
     "text": [
      "0\n",
      "1\n",
      "2\n",
      "3\n",
      "4\n",
      "Done!\n"
     ]
    }
   ],
   "source": [
    "for i in range(5):\n",
    "    print(i)\n",
    "else:\n",
    "    print('Done!')"
   ]
  },
  {
   "cell_type": "markdown",
   "metadata": {},
   "source": [
    "Exercise 11: Write a program to display all prime numbers within a range\n",
    "Note: A Prime Number is a number that cannot be made by multiplying other whole numbers. A prime number is a natural number greater than 1 that is not a product of two smaller natural numbers\n",
    "\n",
    "Examples:\n",
    "\n",
    "6 is not a prime mumber because it can be made by 2×3 = 6\n",
    "37 is a prime number because no other whole numbers multiply together to make it.\n",
    "Given:\n",
    "\n",
    "# range\n",
    "start = 25\n",
    "end = 50\n",
    "Expected output:\n",
    "\n",
    "Prime numbers between 25 and 50 are:\n",
    "29\n",
    "31\n",
    "37\n",
    "41\n",
    "43\n",
    "47"
   ]
  },
  {
   "cell_type": "code",
   "execution_count": 67,
   "metadata": {},
   "outputs": [
    {
     "name": "stdout",
     "output_type": "stream",
     "text": [
      "25\n",
      "27\n",
      "29\n",
      "31\n",
      "33\n",
      "35\n",
      "37\n",
      "39\n",
      "41\n",
      "43\n",
      "45\n",
      "47\n",
      "49\n"
     ]
    }
   ],
   "source": [
    "start = 25\n",
    "end = 50\n",
    "\n",
    "for val in range(start,end):\n",
    "    for i in range(2,val):\n",
    "        if val % i ==0:\n",
    "            pass\n",
    "        else:\n",
    "            if val % i !=0 and val % val==0:\n",
    "                print(val)\n",
    "        break\n",
    "    "
   ]
  },
  {
   "cell_type": "code",
   "execution_count": 5,
   "metadata": {},
   "outputs": [
    {
     "name": "stdout",
     "output_type": "stream",
     "text": [
      "1\n"
     ]
    }
   ],
   "source": [
    "print(25 % 3)"
   ]
  },
  {
   "cell_type": "code",
   "execution_count": null,
   "metadata": {},
   "outputs": [],
   "source": []
  }
 ],
 "metadata": {
  "kernelspec": {
   "display_name": "Python 3",
   "language": "python",
   "name": "python3"
  },
  "language_info": {
   "codemirror_mode": {
    "name": "ipython",
    "version": 3
   },
   "file_extension": ".py",
   "mimetype": "text/x-python",
   "name": "python",
   "nbconvert_exporter": "python",
   "pygments_lexer": "ipython3",
   "version": "3.12.1"
  }
 },
 "nbformat": 4,
 "nbformat_minor": 2
}
